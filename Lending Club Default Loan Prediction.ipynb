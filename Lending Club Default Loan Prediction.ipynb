{
 "cells": [
  {
   "cell_type": "markdown",
   "metadata": {},
   "source": [
    "# Brief Summary ##\n"
   ]
  },
  {
   "cell_type": "markdown",
   "metadata": {},
   "source": [
    "1.  Library Setup\n",
    "2.  Data Collection and Data Understanding\n",
    "3.  Exploratory Data Analysis\n",
    "4.  Data Preparation\n",
    "5.  Model Development and Obtain best classifier through Parameter-Tuning via Cross validation\n",
    "6.  Validation of model on holdout data (validation data) along with performance summary\n",
    "7.  Final Prediction on loan data (year 2008)\n",
    "8.  Model Object Save"
   ]
  },
  {
   "cell_type": "markdown",
   "metadata": {},
   "source": [
    "## Important Libraries Import"
   ]
  },
  {
   "cell_type": "code",
   "execution_count": 377,
   "metadata": {},
   "outputs": [],
   "source": [
    "# Important Libraries Import\n",
    "\n",
    "# For environment setup \n",
    "import os\n",
    "\n",
    "# For data analysis/\n",
    "import pandas as pd\n",
    "import numpy as np\n",
    "import time\n",
    "import re\n",
    "\n",
    "# For Visualization\n",
    "import seaborn as sns \n",
    "import matplotlib.pyplot as plt \n",
    "from plotly import tools\n",
    "import chart_studio.plotly as py\n",
    "from scipy import stats\n",
    "%matplotlib inline\n",
    "\n",
    "\n",
    "# For data preparation for model development\n",
    "from sklearn.preprocessing import label_binarize\n",
    "from sklearn.preprocessing import scale\n",
    "from sklearn.preprocessing import StandardScaler\n",
    "import random\n",
    "from sklearn.feature_selection  import SelectFromModel\n",
    "from sklearn.preprocessing import OneHotEncoder\n",
    "\n",
    "# For machine learning model building and performance analysis\n",
    "from sklearn.metrics import classification_report,accuracy_score,roc_curve,auc\n",
    "from sklearn.model_selection import cross_val_score\n",
    "from sklearn.model_selection import cross_validate\n",
    "from sklearn.metrics import confusion_matrix\n",
    "from sklearn.ensemble import RandomForestClassifier\n",
    "from sklearn.feature_selection  import SelectFromModel\n",
    "import statsmodels.api as sm1\n",
    "from xgboost import XGBClassifier\n",
    "from sklearn import linear_model,svm\n",
    "from sklearn import metrics\n",
    "from scipy import interp\n",
    "from itertools import cycle\n",
    "\n",
    "# Final Model Save\n",
    "import pickle\n",
    "\n",
    "pd.set_option(\"display.max_columns\",200)\n",
    "pd.set_option(\"display.max_rows\",150)\n",
    "\n",
    "import warnings\n",
    "warnings.filterwarnings('ignore')"
   ]
  },
  {
   "cell_type": "markdown",
   "metadata": {},
   "source": [
    "## Data Collection and Understanding"
   ]
  },
  {
   "cell_type": "code",
   "execution_count": 378,
   "metadata": {},
   "outputs": [
    {
     "data": {
      "text/plain": [
       "(42535, 150)"
      ]
     },
     "execution_count": 378,
     "metadata": {},
     "output_type": "execute_result"
    }
   ],
   "source": [
    "pd.set_option(\"display.max_columns\",200)\n",
    "pd.set_option(\"display.max_rows\",150)\n",
    "os.chdir('F:\\\\LocalDriveD\\\\Analytics\\\\Interview\\\\Bajaj IJP')\n",
    "df = pd.read_csv('LoanStats3a_securev1.csv',skiprows=1)\n",
    "df.shape\n",
    "#df.info(null_counts=True,max_cols=200)\n"
   ]
  },
  {
   "cell_type": "code",
   "execution_count": 379,
   "metadata": {},
   "outputs": [
    {
     "data": {
      "text/html": [
       "<div>\n",
       "<style scoped>\n",
       "    .dataframe tbody tr th:only-of-type {\n",
       "        vertical-align: middle;\n",
       "    }\n",
       "\n",
       "    .dataframe tbody tr th {\n",
       "        vertical-align: top;\n",
       "    }\n",
       "\n",
       "    .dataframe thead th {\n",
       "        text-align: right;\n",
       "    }\n",
       "</style>\n",
       "<table border=\"1\" class=\"dataframe\">\n",
       "  <thead>\n",
       "    <tr style=\"text-align: right;\">\n",
       "      <th></th>\n",
       "      <th>id</th>\n",
       "      <th>member_id</th>\n",
       "      <th>loan_amnt</th>\n",
       "      <th>funded_amnt</th>\n",
       "      <th>funded_amnt_inv</th>\n",
       "      <th>term</th>\n",
       "      <th>int_rate</th>\n",
       "      <th>installment</th>\n",
       "      <th>grade</th>\n",
       "      <th>sub_grade</th>\n",
       "      <th>emp_title</th>\n",
       "      <th>emp_length</th>\n",
       "      <th>home_ownership</th>\n",
       "      <th>annual_inc</th>\n",
       "      <th>verification_status</th>\n",
       "      <th>issue_d</th>\n",
       "      <th>loan_status</th>\n",
       "      <th>pymnt_plan</th>\n",
       "      <th>url</th>\n",
       "      <th>desc</th>\n",
       "      <th>purpose</th>\n",
       "      <th>title</th>\n",
       "      <th>zip_code</th>\n",
       "      <th>addr_state</th>\n",
       "      <th>dti</th>\n",
       "      <th>delinq_2yrs</th>\n",
       "      <th>earliest_cr_line</th>\n",
       "      <th>fico_range_low</th>\n",
       "      <th>fico_range_high</th>\n",
       "      <th>inq_last_6mths</th>\n",
       "      <th>mths_since_last_delinq</th>\n",
       "      <th>mths_since_last_record</th>\n",
       "      <th>open_acc</th>\n",
       "      <th>pub_rec</th>\n",
       "      <th>revol_bal</th>\n",
       "      <th>revol_util</th>\n",
       "      <th>total_acc</th>\n",
       "      <th>initial_list_status</th>\n",
       "      <th>out_prncp</th>\n",
       "      <th>out_prncp_inv</th>\n",
       "      <th>total_pymnt</th>\n",
       "      <th>total_pymnt_inv</th>\n",
       "      <th>total_rec_prncp</th>\n",
       "      <th>total_rec_int</th>\n",
       "      <th>total_rec_late_fee</th>\n",
       "      <th>recoveries</th>\n",
       "      <th>collection_recovery_fee</th>\n",
       "      <th>last_pymnt_d</th>\n",
       "      <th>last_pymnt_amnt</th>\n",
       "      <th>next_pymnt_d</th>\n",
       "      <th>last_credit_pull_d</th>\n",
       "      <th>last_fico_range_high</th>\n",
       "      <th>last_fico_range_low</th>\n",
       "      <th>collections_12_mths_ex_med</th>\n",
       "      <th>mths_since_last_major_derog</th>\n",
       "      <th>policy_code</th>\n",
       "      <th>application_type</th>\n",
       "      <th>annual_inc_joint</th>\n",
       "      <th>dti_joint</th>\n",
       "      <th>verification_status_joint</th>\n",
       "      <th>acc_now_delinq</th>\n",
       "      <th>tot_coll_amt</th>\n",
       "      <th>tot_cur_bal</th>\n",
       "      <th>open_acc_6m</th>\n",
       "      <th>open_act_il</th>\n",
       "      <th>open_il_12m</th>\n",
       "      <th>open_il_24m</th>\n",
       "      <th>mths_since_rcnt_il</th>\n",
       "      <th>total_bal_il</th>\n",
       "      <th>il_util</th>\n",
       "      <th>open_rv_12m</th>\n",
       "      <th>open_rv_24m</th>\n",
       "      <th>max_bal_bc</th>\n",
       "      <th>all_util</th>\n",
       "      <th>total_rev_hi_lim</th>\n",
       "      <th>inq_fi</th>\n",
       "      <th>total_cu_tl</th>\n",
       "      <th>inq_last_12m</th>\n",
       "      <th>acc_open_past_24mths</th>\n",
       "      <th>avg_cur_bal</th>\n",
       "      <th>bc_open_to_buy</th>\n",
       "      <th>bc_util</th>\n",
       "      <th>chargeoff_within_12_mths</th>\n",
       "      <th>delinq_amnt</th>\n",
       "      <th>mo_sin_old_il_acct</th>\n",
       "      <th>mo_sin_old_rev_tl_op</th>\n",
       "      <th>mo_sin_rcnt_rev_tl_op</th>\n",
       "      <th>mo_sin_rcnt_tl</th>\n",
       "      <th>mort_acc</th>\n",
       "      <th>mths_since_recent_bc</th>\n",
       "      <th>mths_since_recent_bc_dlq</th>\n",
       "      <th>mths_since_recent_inq</th>\n",
       "      <th>mths_since_recent_revol_delinq</th>\n",
       "      <th>num_accts_ever_120_pd</th>\n",
       "      <th>num_actv_bc_tl</th>\n",
       "      <th>num_actv_rev_tl</th>\n",
       "      <th>num_bc_sats</th>\n",
       "      <th>num_bc_tl</th>\n",
       "      <th>num_il_tl</th>\n",
       "      <th>num_op_rev_tl</th>\n",
       "      <th>num_rev_accts</th>\n",
       "      <th>num_rev_tl_bal_gt_0</th>\n",
       "      <th>num_sats</th>\n",
       "      <th>num_tl_120dpd_2m</th>\n",
       "      <th>num_tl_30dpd</th>\n",
       "      <th>num_tl_90g_dpd_24m</th>\n",
       "      <th>num_tl_op_past_12m</th>\n",
       "      <th>pct_tl_nvr_dlq</th>\n",
       "      <th>percent_bc_gt_75</th>\n",
       "      <th>pub_rec_bankruptcies</th>\n",
       "      <th>tax_liens</th>\n",
       "      <th>tot_hi_cred_lim</th>\n",
       "      <th>total_bal_ex_mort</th>\n",
       "      <th>total_bc_limit</th>\n",
       "      <th>total_il_high_credit_limit</th>\n",
       "      <th>revol_bal_joint</th>\n",
       "      <th>sec_app_fico_range_low</th>\n",
       "      <th>sec_app_fico_range_high</th>\n",
       "      <th>sec_app_earliest_cr_line</th>\n",
       "      <th>sec_app_inq_last_6mths</th>\n",
       "      <th>sec_app_mort_acc</th>\n",
       "      <th>sec_app_open_acc</th>\n",
       "      <th>sec_app_revol_util</th>\n",
       "      <th>sec_app_open_act_il</th>\n",
       "      <th>sec_app_num_rev_accts</th>\n",
       "      <th>sec_app_chargeoff_within_12_mths</th>\n",
       "      <th>sec_app_collections_12_mths_ex_med</th>\n",
       "      <th>sec_app_mths_since_last_major_derog</th>\n",
       "      <th>hardship_flag</th>\n",
       "      <th>hardship_type</th>\n",
       "      <th>hardship_reason</th>\n",
       "      <th>hardship_status</th>\n",
       "      <th>deferral_term</th>\n",
       "      <th>hardship_amount</th>\n",
       "      <th>hardship_start_date</th>\n",
       "      <th>hardship_end_date</th>\n",
       "      <th>payment_plan_start_date</th>\n",
       "      <th>hardship_length</th>\n",
       "      <th>hardship_dpd</th>\n",
       "      <th>hardship_loan_status</th>\n",
       "      <th>orig_projected_additional_accrued_interest</th>\n",
       "      <th>hardship_payoff_balance_amount</th>\n",
       "      <th>hardship_last_payment_amount</th>\n",
       "      <th>debt_settlement_flag</th>\n",
       "      <th>debt_settlement_flag_date</th>\n",
       "      <th>settlement_status</th>\n",
       "      <th>settlement_date</th>\n",
       "      <th>settlement_amount</th>\n",
       "      <th>settlement_percentage</th>\n",
       "      <th>settlement_term</th>\n",
       "    </tr>\n",
       "  </thead>\n",
       "  <tbody>\n",
       "    <tr>\n",
       "      <th>0</th>\n",
       "      <td>1077501</td>\n",
       "      <td>NaN</td>\n",
       "      <td>5000.0</td>\n",
       "      <td>5000.0</td>\n",
       "      <td>4975.0</td>\n",
       "      <td>36 months</td>\n",
       "      <td>10.65%</td>\n",
       "      <td>162.87</td>\n",
       "      <td>B</td>\n",
       "      <td>B2</td>\n",
       "      <td>NaN</td>\n",
       "      <td>10+ years</td>\n",
       "      <td>RENT</td>\n",
       "      <td>24000.0</td>\n",
       "      <td>Verified</td>\n",
       "      <td>Dec-2011</td>\n",
       "      <td>Fully Paid</td>\n",
       "      <td>n</td>\n",
       "      <td>https://lendingclub.com/browse/loanDetail.acti...</td>\n",
       "      <td>Borrower added on 12/22/11 &gt; I need to upgra...</td>\n",
       "      <td>credit_card</td>\n",
       "      <td>Computer</td>\n",
       "      <td>860xx</td>\n",
       "      <td>AZ</td>\n",
       "      <td>27.65</td>\n",
       "      <td>0.0</td>\n",
       "      <td>Jan-1985</td>\n",
       "      <td>735.0</td>\n",
       "      <td>739.0</td>\n",
       "      <td>1.0</td>\n",
       "      <td>NaN</td>\n",
       "      <td>NaN</td>\n",
       "      <td>3.0</td>\n",
       "      <td>0.0</td>\n",
       "      <td>13648.0</td>\n",
       "      <td>83.7%</td>\n",
       "      <td>9.0</td>\n",
       "      <td>f</td>\n",
       "      <td>0.0</td>\n",
       "      <td>0.0</td>\n",
       "      <td>5863.155187</td>\n",
       "      <td>5833.84</td>\n",
       "      <td>5000.00</td>\n",
       "      <td>863.16</td>\n",
       "      <td>0.00</td>\n",
       "      <td>0.0</td>\n",
       "      <td>0.00</td>\n",
       "      <td>Jan-2015</td>\n",
       "      <td>171.62</td>\n",
       "      <td>NaN</td>\n",
       "      <td>Dec-2019</td>\n",
       "      <td>734.0</td>\n",
       "      <td>730.0</td>\n",
       "      <td>0.0</td>\n",
       "      <td>NaN</td>\n",
       "      <td>1.0</td>\n",
       "      <td>Individual</td>\n",
       "      <td>NaN</td>\n",
       "      <td>NaN</td>\n",
       "      <td>NaN</td>\n",
       "      <td>0.0</td>\n",
       "      <td>NaN</td>\n",
       "      <td>NaN</td>\n",
       "      <td>NaN</td>\n",
       "      <td>NaN</td>\n",
       "      <td>NaN</td>\n",
       "      <td>NaN</td>\n",
       "      <td>NaN</td>\n",
       "      <td>NaN</td>\n",
       "      <td>NaN</td>\n",
       "      <td>NaN</td>\n",
       "      <td>NaN</td>\n",
       "      <td>NaN</td>\n",
       "      <td>NaN</td>\n",
       "      <td>NaN</td>\n",
       "      <td>NaN</td>\n",
       "      <td>NaN</td>\n",
       "      <td>NaN</td>\n",
       "      <td>NaN</td>\n",
       "      <td>NaN</td>\n",
       "      <td>NaN</td>\n",
       "      <td>NaN</td>\n",
       "      <td>0.0</td>\n",
       "      <td>0.0</td>\n",
       "      <td>NaN</td>\n",
       "      <td>NaN</td>\n",
       "      <td>NaN</td>\n",
       "      <td>NaN</td>\n",
       "      <td>NaN</td>\n",
       "      <td>NaN</td>\n",
       "      <td>NaN</td>\n",
       "      <td>NaN</td>\n",
       "      <td>NaN</td>\n",
       "      <td>NaN</td>\n",
       "      <td>NaN</td>\n",
       "      <td>NaN</td>\n",
       "      <td>NaN</td>\n",
       "      <td>NaN</td>\n",
       "      <td>NaN</td>\n",
       "      <td>NaN</td>\n",
       "      <td>NaN</td>\n",
       "      <td>NaN</td>\n",
       "      <td>NaN</td>\n",
       "      <td>NaN</td>\n",
       "      <td>NaN</td>\n",
       "      <td>NaN</td>\n",
       "      <td>NaN</td>\n",
       "      <td>NaN</td>\n",
       "      <td>NaN</td>\n",
       "      <td>0.0</td>\n",
       "      <td>0.0</td>\n",
       "      <td>NaN</td>\n",
       "      <td>NaN</td>\n",
       "      <td>NaN</td>\n",
       "      <td>NaN</td>\n",
       "      <td>NaN</td>\n",
       "      <td>NaN</td>\n",
       "      <td>NaN</td>\n",
       "      <td>NaN</td>\n",
       "      <td>NaN</td>\n",
       "      <td>NaN</td>\n",
       "      <td>NaN</td>\n",
       "      <td>NaN</td>\n",
       "      <td>NaN</td>\n",
       "      <td>NaN</td>\n",
       "      <td>NaN</td>\n",
       "      <td>NaN</td>\n",
       "      <td>NaN</td>\n",
       "      <td>N</td>\n",
       "      <td>NaN</td>\n",
       "      <td>NaN</td>\n",
       "      <td>NaN</td>\n",
       "      <td>NaN</td>\n",
       "      <td>NaN</td>\n",
       "      <td>NaN</td>\n",
       "      <td>NaN</td>\n",
       "      <td>NaN</td>\n",
       "      <td>NaN</td>\n",
       "      <td>NaN</td>\n",
       "      <td>NaN</td>\n",
       "      <td>NaN</td>\n",
       "      <td>NaN</td>\n",
       "      <td>NaN</td>\n",
       "      <td>N</td>\n",
       "      <td>NaN</td>\n",
       "      <td>NaN</td>\n",
       "      <td>NaN</td>\n",
       "      <td>NaN</td>\n",
       "      <td>NaN</td>\n",
       "      <td>NaN</td>\n",
       "    </tr>\n",
       "    <tr>\n",
       "      <th>1</th>\n",
       "      <td>1077430</td>\n",
       "      <td>NaN</td>\n",
       "      <td>2500.0</td>\n",
       "      <td>2500.0</td>\n",
       "      <td>2500.0</td>\n",
       "      <td>60 months</td>\n",
       "      <td>15.27%</td>\n",
       "      <td>59.83</td>\n",
       "      <td>C</td>\n",
       "      <td>C4</td>\n",
       "      <td>Ryder</td>\n",
       "      <td>&lt; 1 year</td>\n",
       "      <td>RENT</td>\n",
       "      <td>30000.0</td>\n",
       "      <td>Source Verified</td>\n",
       "      <td>Dec-2011</td>\n",
       "      <td>Charged Off</td>\n",
       "      <td>n</td>\n",
       "      <td>https://lendingclub.com/browse/loanDetail.acti...</td>\n",
       "      <td>Borrower added on 12/22/11 &gt; I plan to use t...</td>\n",
       "      <td>car</td>\n",
       "      <td>bike</td>\n",
       "      <td>309xx</td>\n",
       "      <td>GA</td>\n",
       "      <td>1.00</td>\n",
       "      <td>0.0</td>\n",
       "      <td>Apr-1999</td>\n",
       "      <td>740.0</td>\n",
       "      <td>744.0</td>\n",
       "      <td>5.0</td>\n",
       "      <td>NaN</td>\n",
       "      <td>NaN</td>\n",
       "      <td>3.0</td>\n",
       "      <td>0.0</td>\n",
       "      <td>1687.0</td>\n",
       "      <td>9.4%</td>\n",
       "      <td>4.0</td>\n",
       "      <td>f</td>\n",
       "      <td>0.0</td>\n",
       "      <td>0.0</td>\n",
       "      <td>1014.530000</td>\n",
       "      <td>1014.53</td>\n",
       "      <td>456.46</td>\n",
       "      <td>435.17</td>\n",
       "      <td>0.00</td>\n",
       "      <td>122.9</td>\n",
       "      <td>1.11</td>\n",
       "      <td>Apr-2013</td>\n",
       "      <td>119.66</td>\n",
       "      <td>NaN</td>\n",
       "      <td>Oct-2016</td>\n",
       "      <td>499.0</td>\n",
       "      <td>0.0</td>\n",
       "      <td>0.0</td>\n",
       "      <td>NaN</td>\n",
       "      <td>1.0</td>\n",
       "      <td>Individual</td>\n",
       "      <td>NaN</td>\n",
       "      <td>NaN</td>\n",
       "      <td>NaN</td>\n",
       "      <td>0.0</td>\n",
       "      <td>NaN</td>\n",
       "      <td>NaN</td>\n",
       "      <td>NaN</td>\n",
       "      <td>NaN</td>\n",
       "      <td>NaN</td>\n",
       "      <td>NaN</td>\n",
       "      <td>NaN</td>\n",
       "      <td>NaN</td>\n",
       "      <td>NaN</td>\n",
       "      <td>NaN</td>\n",
       "      <td>NaN</td>\n",
       "      <td>NaN</td>\n",
       "      <td>NaN</td>\n",
       "      <td>NaN</td>\n",
       "      <td>NaN</td>\n",
       "      <td>NaN</td>\n",
       "      <td>NaN</td>\n",
       "      <td>NaN</td>\n",
       "      <td>NaN</td>\n",
       "      <td>NaN</td>\n",
       "      <td>NaN</td>\n",
       "      <td>0.0</td>\n",
       "      <td>0.0</td>\n",
       "      <td>NaN</td>\n",
       "      <td>NaN</td>\n",
       "      <td>NaN</td>\n",
       "      <td>NaN</td>\n",
       "      <td>NaN</td>\n",
       "      <td>NaN</td>\n",
       "      <td>NaN</td>\n",
       "      <td>NaN</td>\n",
       "      <td>NaN</td>\n",
       "      <td>NaN</td>\n",
       "      <td>NaN</td>\n",
       "      <td>NaN</td>\n",
       "      <td>NaN</td>\n",
       "      <td>NaN</td>\n",
       "      <td>NaN</td>\n",
       "      <td>NaN</td>\n",
       "      <td>NaN</td>\n",
       "      <td>NaN</td>\n",
       "      <td>NaN</td>\n",
       "      <td>NaN</td>\n",
       "      <td>NaN</td>\n",
       "      <td>NaN</td>\n",
       "      <td>NaN</td>\n",
       "      <td>NaN</td>\n",
       "      <td>NaN</td>\n",
       "      <td>0.0</td>\n",
       "      <td>0.0</td>\n",
       "      <td>NaN</td>\n",
       "      <td>NaN</td>\n",
       "      <td>NaN</td>\n",
       "      <td>NaN</td>\n",
       "      <td>NaN</td>\n",
       "      <td>NaN</td>\n",
       "      <td>NaN</td>\n",
       "      <td>NaN</td>\n",
       "      <td>NaN</td>\n",
       "      <td>NaN</td>\n",
       "      <td>NaN</td>\n",
       "      <td>NaN</td>\n",
       "      <td>NaN</td>\n",
       "      <td>NaN</td>\n",
       "      <td>NaN</td>\n",
       "      <td>NaN</td>\n",
       "      <td>NaN</td>\n",
       "      <td>N</td>\n",
       "      <td>NaN</td>\n",
       "      <td>NaN</td>\n",
       "      <td>NaN</td>\n",
       "      <td>NaN</td>\n",
       "      <td>NaN</td>\n",
       "      <td>NaN</td>\n",
       "      <td>NaN</td>\n",
       "      <td>NaN</td>\n",
       "      <td>NaN</td>\n",
       "      <td>NaN</td>\n",
       "      <td>NaN</td>\n",
       "      <td>NaN</td>\n",
       "      <td>NaN</td>\n",
       "      <td>NaN</td>\n",
       "      <td>N</td>\n",
       "      <td>NaN</td>\n",
       "      <td>NaN</td>\n",
       "      <td>NaN</td>\n",
       "      <td>NaN</td>\n",
       "      <td>NaN</td>\n",
       "      <td>NaN</td>\n",
       "    </tr>\n",
       "    <tr>\n",
       "      <th>2</th>\n",
       "      <td>1077175</td>\n",
       "      <td>NaN</td>\n",
       "      <td>2400.0</td>\n",
       "      <td>2400.0</td>\n",
       "      <td>2400.0</td>\n",
       "      <td>36 months</td>\n",
       "      <td>15.96%</td>\n",
       "      <td>84.33</td>\n",
       "      <td>C</td>\n",
       "      <td>C5</td>\n",
       "      <td>NaN</td>\n",
       "      <td>10+ years</td>\n",
       "      <td>RENT</td>\n",
       "      <td>12252.0</td>\n",
       "      <td>Not Verified</td>\n",
       "      <td>Dec-2011</td>\n",
       "      <td>Fully Paid</td>\n",
       "      <td>n</td>\n",
       "      <td>https://lendingclub.com/browse/loanDetail.acti...</td>\n",
       "      <td>NaN</td>\n",
       "      <td>small_business</td>\n",
       "      <td>real estate business</td>\n",
       "      <td>606xx</td>\n",
       "      <td>IL</td>\n",
       "      <td>8.72</td>\n",
       "      <td>0.0</td>\n",
       "      <td>Nov-2001</td>\n",
       "      <td>735.0</td>\n",
       "      <td>739.0</td>\n",
       "      <td>2.0</td>\n",
       "      <td>NaN</td>\n",
       "      <td>NaN</td>\n",
       "      <td>2.0</td>\n",
       "      <td>0.0</td>\n",
       "      <td>2956.0</td>\n",
       "      <td>98.5%</td>\n",
       "      <td>10.0</td>\n",
       "      <td>f</td>\n",
       "      <td>0.0</td>\n",
       "      <td>0.0</td>\n",
       "      <td>3005.666844</td>\n",
       "      <td>3005.67</td>\n",
       "      <td>2400.00</td>\n",
       "      <td>605.67</td>\n",
       "      <td>0.00</td>\n",
       "      <td>0.0</td>\n",
       "      <td>0.00</td>\n",
       "      <td>Jun-2014</td>\n",
       "      <td>649.91</td>\n",
       "      <td>NaN</td>\n",
       "      <td>Jun-2017</td>\n",
       "      <td>739.0</td>\n",
       "      <td>735.0</td>\n",
       "      <td>0.0</td>\n",
       "      <td>NaN</td>\n",
       "      <td>1.0</td>\n",
       "      <td>Individual</td>\n",
       "      <td>NaN</td>\n",
       "      <td>NaN</td>\n",
       "      <td>NaN</td>\n",
       "      <td>0.0</td>\n",
       "      <td>NaN</td>\n",
       "      <td>NaN</td>\n",
       "      <td>NaN</td>\n",
       "      <td>NaN</td>\n",
       "      <td>NaN</td>\n",
       "      <td>NaN</td>\n",
       "      <td>NaN</td>\n",
       "      <td>NaN</td>\n",
       "      <td>NaN</td>\n",
       "      <td>NaN</td>\n",
       "      <td>NaN</td>\n",
       "      <td>NaN</td>\n",
       "      <td>NaN</td>\n",
       "      <td>NaN</td>\n",
       "      <td>NaN</td>\n",
       "      <td>NaN</td>\n",
       "      <td>NaN</td>\n",
       "      <td>NaN</td>\n",
       "      <td>NaN</td>\n",
       "      <td>NaN</td>\n",
       "      <td>NaN</td>\n",
       "      <td>0.0</td>\n",
       "      <td>0.0</td>\n",
       "      <td>NaN</td>\n",
       "      <td>NaN</td>\n",
       "      <td>NaN</td>\n",
       "      <td>NaN</td>\n",
       "      <td>NaN</td>\n",
       "      <td>NaN</td>\n",
       "      <td>NaN</td>\n",
       "      <td>NaN</td>\n",
       "      <td>NaN</td>\n",
       "      <td>NaN</td>\n",
       "      <td>NaN</td>\n",
       "      <td>NaN</td>\n",
       "      <td>NaN</td>\n",
       "      <td>NaN</td>\n",
       "      <td>NaN</td>\n",
       "      <td>NaN</td>\n",
       "      <td>NaN</td>\n",
       "      <td>NaN</td>\n",
       "      <td>NaN</td>\n",
       "      <td>NaN</td>\n",
       "      <td>NaN</td>\n",
       "      <td>NaN</td>\n",
       "      <td>NaN</td>\n",
       "      <td>NaN</td>\n",
       "      <td>NaN</td>\n",
       "      <td>0.0</td>\n",
       "      <td>0.0</td>\n",
       "      <td>NaN</td>\n",
       "      <td>NaN</td>\n",
       "      <td>NaN</td>\n",
       "      <td>NaN</td>\n",
       "      <td>NaN</td>\n",
       "      <td>NaN</td>\n",
       "      <td>NaN</td>\n",
       "      <td>NaN</td>\n",
       "      <td>NaN</td>\n",
       "      <td>NaN</td>\n",
       "      <td>NaN</td>\n",
       "      <td>NaN</td>\n",
       "      <td>NaN</td>\n",
       "      <td>NaN</td>\n",
       "      <td>NaN</td>\n",
       "      <td>NaN</td>\n",
       "      <td>NaN</td>\n",
       "      <td>N</td>\n",
       "      <td>NaN</td>\n",
       "      <td>NaN</td>\n",
       "      <td>NaN</td>\n",
       "      <td>NaN</td>\n",
       "      <td>NaN</td>\n",
       "      <td>NaN</td>\n",
       "      <td>NaN</td>\n",
       "      <td>NaN</td>\n",
       "      <td>NaN</td>\n",
       "      <td>NaN</td>\n",
       "      <td>NaN</td>\n",
       "      <td>NaN</td>\n",
       "      <td>NaN</td>\n",
       "      <td>NaN</td>\n",
       "      <td>N</td>\n",
       "      <td>NaN</td>\n",
       "      <td>NaN</td>\n",
       "      <td>NaN</td>\n",
       "      <td>NaN</td>\n",
       "      <td>NaN</td>\n",
       "      <td>NaN</td>\n",
       "    </tr>\n",
       "    <tr>\n",
       "      <th>3</th>\n",
       "      <td>1076863</td>\n",
       "      <td>NaN</td>\n",
       "      <td>10000.0</td>\n",
       "      <td>10000.0</td>\n",
       "      <td>10000.0</td>\n",
       "      <td>36 months</td>\n",
       "      <td>13.49%</td>\n",
       "      <td>339.31</td>\n",
       "      <td>C</td>\n",
       "      <td>C1</td>\n",
       "      <td>AIR RESOURCES BOARD</td>\n",
       "      <td>10+ years</td>\n",
       "      <td>RENT</td>\n",
       "      <td>49200.0</td>\n",
       "      <td>Source Verified</td>\n",
       "      <td>Dec-2011</td>\n",
       "      <td>Fully Paid</td>\n",
       "      <td>n</td>\n",
       "      <td>https://lendingclub.com/browse/loanDetail.acti...</td>\n",
       "      <td>Borrower added on 12/21/11 &gt; to pay for prop...</td>\n",
       "      <td>other</td>\n",
       "      <td>personel</td>\n",
       "      <td>917xx</td>\n",
       "      <td>CA</td>\n",
       "      <td>20.00</td>\n",
       "      <td>0.0</td>\n",
       "      <td>Feb-1996</td>\n",
       "      <td>690.0</td>\n",
       "      <td>694.0</td>\n",
       "      <td>1.0</td>\n",
       "      <td>35.0</td>\n",
       "      <td>NaN</td>\n",
       "      <td>10.0</td>\n",
       "      <td>0.0</td>\n",
       "      <td>5598.0</td>\n",
       "      <td>21%</td>\n",
       "      <td>37.0</td>\n",
       "      <td>f</td>\n",
       "      <td>0.0</td>\n",
       "      <td>0.0</td>\n",
       "      <td>12231.890000</td>\n",
       "      <td>12231.89</td>\n",
       "      <td>10000.00</td>\n",
       "      <td>2214.92</td>\n",
       "      <td>16.97</td>\n",
       "      <td>0.0</td>\n",
       "      <td>0.00</td>\n",
       "      <td>Jan-2015</td>\n",
       "      <td>357.48</td>\n",
       "      <td>NaN</td>\n",
       "      <td>Apr-2016</td>\n",
       "      <td>604.0</td>\n",
       "      <td>600.0</td>\n",
       "      <td>0.0</td>\n",
       "      <td>NaN</td>\n",
       "      <td>1.0</td>\n",
       "      <td>Individual</td>\n",
       "      <td>NaN</td>\n",
       "      <td>NaN</td>\n",
       "      <td>NaN</td>\n",
       "      <td>0.0</td>\n",
       "      <td>NaN</td>\n",
       "      <td>NaN</td>\n",
       "      <td>NaN</td>\n",
       "      <td>NaN</td>\n",
       "      <td>NaN</td>\n",
       "      <td>NaN</td>\n",
       "      <td>NaN</td>\n",
       "      <td>NaN</td>\n",
       "      <td>NaN</td>\n",
       "      <td>NaN</td>\n",
       "      <td>NaN</td>\n",
       "      <td>NaN</td>\n",
       "      <td>NaN</td>\n",
       "      <td>NaN</td>\n",
       "      <td>NaN</td>\n",
       "      <td>NaN</td>\n",
       "      <td>NaN</td>\n",
       "      <td>NaN</td>\n",
       "      <td>NaN</td>\n",
       "      <td>NaN</td>\n",
       "      <td>NaN</td>\n",
       "      <td>0.0</td>\n",
       "      <td>0.0</td>\n",
       "      <td>NaN</td>\n",
       "      <td>NaN</td>\n",
       "      <td>NaN</td>\n",
       "      <td>NaN</td>\n",
       "      <td>NaN</td>\n",
       "      <td>NaN</td>\n",
       "      <td>NaN</td>\n",
       "      <td>NaN</td>\n",
       "      <td>NaN</td>\n",
       "      <td>NaN</td>\n",
       "      <td>NaN</td>\n",
       "      <td>NaN</td>\n",
       "      <td>NaN</td>\n",
       "      <td>NaN</td>\n",
       "      <td>NaN</td>\n",
       "      <td>NaN</td>\n",
       "      <td>NaN</td>\n",
       "      <td>NaN</td>\n",
       "      <td>NaN</td>\n",
       "      <td>NaN</td>\n",
       "      <td>NaN</td>\n",
       "      <td>NaN</td>\n",
       "      <td>NaN</td>\n",
       "      <td>NaN</td>\n",
       "      <td>NaN</td>\n",
       "      <td>0.0</td>\n",
       "      <td>0.0</td>\n",
       "      <td>NaN</td>\n",
       "      <td>NaN</td>\n",
       "      <td>NaN</td>\n",
       "      <td>NaN</td>\n",
       "      <td>NaN</td>\n",
       "      <td>NaN</td>\n",
       "      <td>NaN</td>\n",
       "      <td>NaN</td>\n",
       "      <td>NaN</td>\n",
       "      <td>NaN</td>\n",
       "      <td>NaN</td>\n",
       "      <td>NaN</td>\n",
       "      <td>NaN</td>\n",
       "      <td>NaN</td>\n",
       "      <td>NaN</td>\n",
       "      <td>NaN</td>\n",
       "      <td>NaN</td>\n",
       "      <td>N</td>\n",
       "      <td>NaN</td>\n",
       "      <td>NaN</td>\n",
       "      <td>NaN</td>\n",
       "      <td>NaN</td>\n",
       "      <td>NaN</td>\n",
       "      <td>NaN</td>\n",
       "      <td>NaN</td>\n",
       "      <td>NaN</td>\n",
       "      <td>NaN</td>\n",
       "      <td>NaN</td>\n",
       "      <td>NaN</td>\n",
       "      <td>NaN</td>\n",
       "      <td>NaN</td>\n",
       "      <td>NaN</td>\n",
       "      <td>N</td>\n",
       "      <td>NaN</td>\n",
       "      <td>NaN</td>\n",
       "      <td>NaN</td>\n",
       "      <td>NaN</td>\n",
       "      <td>NaN</td>\n",
       "      <td>NaN</td>\n",
       "    </tr>\n",
       "    <tr>\n",
       "      <th>4</th>\n",
       "      <td>1075358</td>\n",
       "      <td>NaN</td>\n",
       "      <td>3000.0</td>\n",
       "      <td>3000.0</td>\n",
       "      <td>3000.0</td>\n",
       "      <td>60 months</td>\n",
       "      <td>12.69%</td>\n",
       "      <td>67.79</td>\n",
       "      <td>B</td>\n",
       "      <td>B5</td>\n",
       "      <td>University Medical Group</td>\n",
       "      <td>1 year</td>\n",
       "      <td>RENT</td>\n",
       "      <td>80000.0</td>\n",
       "      <td>Source Verified</td>\n",
       "      <td>Dec-2011</td>\n",
       "      <td>Fully Paid</td>\n",
       "      <td>n</td>\n",
       "      <td>https://lendingclub.com/browse/loanDetail.acti...</td>\n",
       "      <td>Borrower added on 12/21/11 &gt; I plan on combi...</td>\n",
       "      <td>other</td>\n",
       "      <td>Personal</td>\n",
       "      <td>972xx</td>\n",
       "      <td>OR</td>\n",
       "      <td>17.94</td>\n",
       "      <td>0.0</td>\n",
       "      <td>Jan-1996</td>\n",
       "      <td>695.0</td>\n",
       "      <td>699.0</td>\n",
       "      <td>0.0</td>\n",
       "      <td>38.0</td>\n",
       "      <td>NaN</td>\n",
       "      <td>15.0</td>\n",
       "      <td>0.0</td>\n",
       "      <td>27783.0</td>\n",
       "      <td>53.9%</td>\n",
       "      <td>38.0</td>\n",
       "      <td>f</td>\n",
       "      <td>0.0</td>\n",
       "      <td>0.0</td>\n",
       "      <td>4066.908161</td>\n",
       "      <td>4066.91</td>\n",
       "      <td>3000.00</td>\n",
       "      <td>1066.91</td>\n",
       "      <td>0.00</td>\n",
       "      <td>0.0</td>\n",
       "      <td>0.00</td>\n",
       "      <td>Jan-2017</td>\n",
       "      <td>67.30</td>\n",
       "      <td>NaN</td>\n",
       "      <td>Apr-2018</td>\n",
       "      <td>684.0</td>\n",
       "      <td>680.0</td>\n",
       "      <td>0.0</td>\n",
       "      <td>NaN</td>\n",
       "      <td>1.0</td>\n",
       "      <td>Individual</td>\n",
       "      <td>NaN</td>\n",
       "      <td>NaN</td>\n",
       "      <td>NaN</td>\n",
       "      <td>0.0</td>\n",
       "      <td>NaN</td>\n",
       "      <td>NaN</td>\n",
       "      <td>NaN</td>\n",
       "      <td>NaN</td>\n",
       "      <td>NaN</td>\n",
       "      <td>NaN</td>\n",
       "      <td>NaN</td>\n",
       "      <td>NaN</td>\n",
       "      <td>NaN</td>\n",
       "      <td>NaN</td>\n",
       "      <td>NaN</td>\n",
       "      <td>NaN</td>\n",
       "      <td>NaN</td>\n",
       "      <td>NaN</td>\n",
       "      <td>NaN</td>\n",
       "      <td>NaN</td>\n",
       "      <td>NaN</td>\n",
       "      <td>NaN</td>\n",
       "      <td>NaN</td>\n",
       "      <td>NaN</td>\n",
       "      <td>NaN</td>\n",
       "      <td>0.0</td>\n",
       "      <td>0.0</td>\n",
       "      <td>NaN</td>\n",
       "      <td>NaN</td>\n",
       "      <td>NaN</td>\n",
       "      <td>NaN</td>\n",
       "      <td>NaN</td>\n",
       "      <td>NaN</td>\n",
       "      <td>NaN</td>\n",
       "      <td>NaN</td>\n",
       "      <td>NaN</td>\n",
       "      <td>NaN</td>\n",
       "      <td>NaN</td>\n",
       "      <td>NaN</td>\n",
       "      <td>NaN</td>\n",
       "      <td>NaN</td>\n",
       "      <td>NaN</td>\n",
       "      <td>NaN</td>\n",
       "      <td>NaN</td>\n",
       "      <td>NaN</td>\n",
       "      <td>NaN</td>\n",
       "      <td>NaN</td>\n",
       "      <td>NaN</td>\n",
       "      <td>NaN</td>\n",
       "      <td>NaN</td>\n",
       "      <td>NaN</td>\n",
       "      <td>NaN</td>\n",
       "      <td>0.0</td>\n",
       "      <td>0.0</td>\n",
       "      <td>NaN</td>\n",
       "      <td>NaN</td>\n",
       "      <td>NaN</td>\n",
       "      <td>NaN</td>\n",
       "      <td>NaN</td>\n",
       "      <td>NaN</td>\n",
       "      <td>NaN</td>\n",
       "      <td>NaN</td>\n",
       "      <td>NaN</td>\n",
       "      <td>NaN</td>\n",
       "      <td>NaN</td>\n",
       "      <td>NaN</td>\n",
       "      <td>NaN</td>\n",
       "      <td>NaN</td>\n",
       "      <td>NaN</td>\n",
       "      <td>NaN</td>\n",
       "      <td>NaN</td>\n",
       "      <td>N</td>\n",
       "      <td>NaN</td>\n",
       "      <td>NaN</td>\n",
       "      <td>NaN</td>\n",
       "      <td>NaN</td>\n",
       "      <td>NaN</td>\n",
       "      <td>NaN</td>\n",
       "      <td>NaN</td>\n",
       "      <td>NaN</td>\n",
       "      <td>NaN</td>\n",
       "      <td>NaN</td>\n",
       "      <td>NaN</td>\n",
       "      <td>NaN</td>\n",
       "      <td>NaN</td>\n",
       "      <td>NaN</td>\n",
       "      <td>N</td>\n",
       "      <td>NaN</td>\n",
       "      <td>NaN</td>\n",
       "      <td>NaN</td>\n",
       "      <td>NaN</td>\n",
       "      <td>NaN</td>\n",
       "      <td>NaN</td>\n",
       "    </tr>\n",
       "  </tbody>\n",
       "</table>\n",
       "</div>"
      ],
      "text/plain": [
       "        id  member_id  loan_amnt  funded_amnt  funded_amnt_inv        term  \\\n",
       "0  1077501        NaN     5000.0       5000.0           4975.0   36 months   \n",
       "1  1077430        NaN     2500.0       2500.0           2500.0   60 months   \n",
       "2  1077175        NaN     2400.0       2400.0           2400.0   36 months   \n",
       "3  1076863        NaN    10000.0      10000.0          10000.0   36 months   \n",
       "4  1075358        NaN     3000.0       3000.0           3000.0   60 months   \n",
       "\n",
       "  int_rate  installment grade sub_grade                 emp_title emp_length  \\\n",
       "0   10.65%       162.87     B        B2                       NaN  10+ years   \n",
       "1   15.27%        59.83     C        C4                     Ryder   < 1 year   \n",
       "2   15.96%        84.33     C        C5                       NaN  10+ years   \n",
       "3   13.49%       339.31     C        C1       AIR RESOURCES BOARD  10+ years   \n",
       "4   12.69%        67.79     B        B5  University Medical Group     1 year   \n",
       "\n",
       "  home_ownership  annual_inc verification_status   issue_d  loan_status  \\\n",
       "0           RENT     24000.0            Verified  Dec-2011   Fully Paid   \n",
       "1           RENT     30000.0     Source Verified  Dec-2011  Charged Off   \n",
       "2           RENT     12252.0        Not Verified  Dec-2011   Fully Paid   \n",
       "3           RENT     49200.0     Source Verified  Dec-2011   Fully Paid   \n",
       "4           RENT     80000.0     Source Verified  Dec-2011   Fully Paid   \n",
       "\n",
       "  pymnt_plan                                                url  \\\n",
       "0          n  https://lendingclub.com/browse/loanDetail.acti...   \n",
       "1          n  https://lendingclub.com/browse/loanDetail.acti...   \n",
       "2          n  https://lendingclub.com/browse/loanDetail.acti...   \n",
       "3          n  https://lendingclub.com/browse/loanDetail.acti...   \n",
       "4          n  https://lendingclub.com/browse/loanDetail.acti...   \n",
       "\n",
       "                                                desc         purpose  \\\n",
       "0    Borrower added on 12/22/11 > I need to upgra...     credit_card   \n",
       "1    Borrower added on 12/22/11 > I plan to use t...             car   \n",
       "2                                                NaN  small_business   \n",
       "3    Borrower added on 12/21/11 > to pay for prop...           other   \n",
       "4    Borrower added on 12/21/11 > I plan on combi...           other   \n",
       "\n",
       "                  title zip_code addr_state    dti  delinq_2yrs  \\\n",
       "0              Computer    860xx         AZ  27.65          0.0   \n",
       "1                  bike    309xx         GA   1.00          0.0   \n",
       "2  real estate business    606xx         IL   8.72          0.0   \n",
       "3              personel    917xx         CA  20.00          0.0   \n",
       "4              Personal    972xx         OR  17.94          0.0   \n",
       "\n",
       "  earliest_cr_line  fico_range_low  fico_range_high  inq_last_6mths  \\\n",
       "0         Jan-1985           735.0            739.0             1.0   \n",
       "1         Apr-1999           740.0            744.0             5.0   \n",
       "2         Nov-2001           735.0            739.0             2.0   \n",
       "3         Feb-1996           690.0            694.0             1.0   \n",
       "4         Jan-1996           695.0            699.0             0.0   \n",
       "\n",
       "   mths_since_last_delinq  mths_since_last_record  open_acc  pub_rec  \\\n",
       "0                     NaN                     NaN       3.0      0.0   \n",
       "1                     NaN                     NaN       3.0      0.0   \n",
       "2                     NaN                     NaN       2.0      0.0   \n",
       "3                    35.0                     NaN      10.0      0.0   \n",
       "4                    38.0                     NaN      15.0      0.0   \n",
       "\n",
       "   revol_bal revol_util  total_acc initial_list_status  out_prncp  \\\n",
       "0    13648.0      83.7%        9.0                   f        0.0   \n",
       "1     1687.0       9.4%        4.0                   f        0.0   \n",
       "2     2956.0      98.5%       10.0                   f        0.0   \n",
       "3     5598.0        21%       37.0                   f        0.0   \n",
       "4    27783.0      53.9%       38.0                   f        0.0   \n",
       "\n",
       "   out_prncp_inv   total_pymnt  total_pymnt_inv  total_rec_prncp  \\\n",
       "0            0.0   5863.155187          5833.84          5000.00   \n",
       "1            0.0   1014.530000          1014.53           456.46   \n",
       "2            0.0   3005.666844          3005.67          2400.00   \n",
       "3            0.0  12231.890000         12231.89         10000.00   \n",
       "4            0.0   4066.908161          4066.91          3000.00   \n",
       "\n",
       "   total_rec_int  total_rec_late_fee  recoveries  collection_recovery_fee  \\\n",
       "0         863.16                0.00         0.0                     0.00   \n",
       "1         435.17                0.00       122.9                     1.11   \n",
       "2         605.67                0.00         0.0                     0.00   \n",
       "3        2214.92               16.97         0.0                     0.00   \n",
       "4        1066.91                0.00         0.0                     0.00   \n",
       "\n",
       "  last_pymnt_d  last_pymnt_amnt next_pymnt_d last_credit_pull_d  \\\n",
       "0     Jan-2015           171.62          NaN           Dec-2019   \n",
       "1     Apr-2013           119.66          NaN           Oct-2016   \n",
       "2     Jun-2014           649.91          NaN           Jun-2017   \n",
       "3     Jan-2015           357.48          NaN           Apr-2016   \n",
       "4     Jan-2017            67.30          NaN           Apr-2018   \n",
       "\n",
       "   last_fico_range_high  last_fico_range_low  collections_12_mths_ex_med  \\\n",
       "0                 734.0                730.0                         0.0   \n",
       "1                 499.0                  0.0                         0.0   \n",
       "2                 739.0                735.0                         0.0   \n",
       "3                 604.0                600.0                         0.0   \n",
       "4                 684.0                680.0                         0.0   \n",
       "\n",
       "   mths_since_last_major_derog  policy_code application_type  \\\n",
       "0                          NaN          1.0       Individual   \n",
       "1                          NaN          1.0       Individual   \n",
       "2                          NaN          1.0       Individual   \n",
       "3                          NaN          1.0       Individual   \n",
       "4                          NaN          1.0       Individual   \n",
       "\n",
       "   annual_inc_joint  dti_joint  verification_status_joint  acc_now_delinq  \\\n",
       "0               NaN        NaN                        NaN             0.0   \n",
       "1               NaN        NaN                        NaN             0.0   \n",
       "2               NaN        NaN                        NaN             0.0   \n",
       "3               NaN        NaN                        NaN             0.0   \n",
       "4               NaN        NaN                        NaN             0.0   \n",
       "\n",
       "   tot_coll_amt  tot_cur_bal  open_acc_6m  open_act_il  open_il_12m  \\\n",
       "0           NaN          NaN          NaN          NaN          NaN   \n",
       "1           NaN          NaN          NaN          NaN          NaN   \n",
       "2           NaN          NaN          NaN          NaN          NaN   \n",
       "3           NaN          NaN          NaN          NaN          NaN   \n",
       "4           NaN          NaN          NaN          NaN          NaN   \n",
       "\n",
       "   open_il_24m  mths_since_rcnt_il  total_bal_il  il_util  open_rv_12m  \\\n",
       "0          NaN                 NaN           NaN      NaN          NaN   \n",
       "1          NaN                 NaN           NaN      NaN          NaN   \n",
       "2          NaN                 NaN           NaN      NaN          NaN   \n",
       "3          NaN                 NaN           NaN      NaN          NaN   \n",
       "4          NaN                 NaN           NaN      NaN          NaN   \n",
       "\n",
       "   open_rv_24m  max_bal_bc  all_util  total_rev_hi_lim  inq_fi  total_cu_tl  \\\n",
       "0          NaN         NaN       NaN               NaN     NaN          NaN   \n",
       "1          NaN         NaN       NaN               NaN     NaN          NaN   \n",
       "2          NaN         NaN       NaN               NaN     NaN          NaN   \n",
       "3          NaN         NaN       NaN               NaN     NaN          NaN   \n",
       "4          NaN         NaN       NaN               NaN     NaN          NaN   \n",
       "\n",
       "   inq_last_12m  acc_open_past_24mths  avg_cur_bal  bc_open_to_buy  bc_util  \\\n",
       "0           NaN                   NaN          NaN             NaN      NaN   \n",
       "1           NaN                   NaN          NaN             NaN      NaN   \n",
       "2           NaN                   NaN          NaN             NaN      NaN   \n",
       "3           NaN                   NaN          NaN             NaN      NaN   \n",
       "4           NaN                   NaN          NaN             NaN      NaN   \n",
       "\n",
       "   chargeoff_within_12_mths  delinq_amnt  mo_sin_old_il_acct  \\\n",
       "0                       0.0          0.0                 NaN   \n",
       "1                       0.0          0.0                 NaN   \n",
       "2                       0.0          0.0                 NaN   \n",
       "3                       0.0          0.0                 NaN   \n",
       "4                       0.0          0.0                 NaN   \n",
       "\n",
       "   mo_sin_old_rev_tl_op  mo_sin_rcnt_rev_tl_op  mo_sin_rcnt_tl  mort_acc  \\\n",
       "0                   NaN                    NaN             NaN       NaN   \n",
       "1                   NaN                    NaN             NaN       NaN   \n",
       "2                   NaN                    NaN             NaN       NaN   \n",
       "3                   NaN                    NaN             NaN       NaN   \n",
       "4                   NaN                    NaN             NaN       NaN   \n",
       "\n",
       "   mths_since_recent_bc  mths_since_recent_bc_dlq  mths_since_recent_inq  \\\n",
       "0                   NaN                       NaN                    NaN   \n",
       "1                   NaN                       NaN                    NaN   \n",
       "2                   NaN                       NaN                    NaN   \n",
       "3                   NaN                       NaN                    NaN   \n",
       "4                   NaN                       NaN                    NaN   \n",
       "\n",
       "   mths_since_recent_revol_delinq  num_accts_ever_120_pd  num_actv_bc_tl  \\\n",
       "0                             NaN                    NaN             NaN   \n",
       "1                             NaN                    NaN             NaN   \n",
       "2                             NaN                    NaN             NaN   \n",
       "3                             NaN                    NaN             NaN   \n",
       "4                             NaN                    NaN             NaN   \n",
       "\n",
       "   num_actv_rev_tl  num_bc_sats  num_bc_tl  num_il_tl  num_op_rev_tl  \\\n",
       "0              NaN          NaN        NaN        NaN            NaN   \n",
       "1              NaN          NaN        NaN        NaN            NaN   \n",
       "2              NaN          NaN        NaN        NaN            NaN   \n",
       "3              NaN          NaN        NaN        NaN            NaN   \n",
       "4              NaN          NaN        NaN        NaN            NaN   \n",
       "\n",
       "   num_rev_accts  num_rev_tl_bal_gt_0  num_sats  num_tl_120dpd_2m  \\\n",
       "0            NaN                  NaN       NaN               NaN   \n",
       "1            NaN                  NaN       NaN               NaN   \n",
       "2            NaN                  NaN       NaN               NaN   \n",
       "3            NaN                  NaN       NaN               NaN   \n",
       "4            NaN                  NaN       NaN               NaN   \n",
       "\n",
       "   num_tl_30dpd  num_tl_90g_dpd_24m  num_tl_op_past_12m  pct_tl_nvr_dlq  \\\n",
       "0           NaN                 NaN                 NaN             NaN   \n",
       "1           NaN                 NaN                 NaN             NaN   \n",
       "2           NaN                 NaN                 NaN             NaN   \n",
       "3           NaN                 NaN                 NaN             NaN   \n",
       "4           NaN                 NaN                 NaN             NaN   \n",
       "\n",
       "   percent_bc_gt_75  pub_rec_bankruptcies  tax_liens  tot_hi_cred_lim  \\\n",
       "0               NaN                   0.0        0.0              NaN   \n",
       "1               NaN                   0.0        0.0              NaN   \n",
       "2               NaN                   0.0        0.0              NaN   \n",
       "3               NaN                   0.0        0.0              NaN   \n",
       "4               NaN                   0.0        0.0              NaN   \n",
       "\n",
       "   total_bal_ex_mort  total_bc_limit  total_il_high_credit_limit  \\\n",
       "0                NaN             NaN                         NaN   \n",
       "1                NaN             NaN                         NaN   \n",
       "2                NaN             NaN                         NaN   \n",
       "3                NaN             NaN                         NaN   \n",
       "4                NaN             NaN                         NaN   \n",
       "\n",
       "   revol_bal_joint  sec_app_fico_range_low  sec_app_fico_range_high  \\\n",
       "0              NaN                     NaN                      NaN   \n",
       "1              NaN                     NaN                      NaN   \n",
       "2              NaN                     NaN                      NaN   \n",
       "3              NaN                     NaN                      NaN   \n",
       "4              NaN                     NaN                      NaN   \n",
       "\n",
       "   sec_app_earliest_cr_line  sec_app_inq_last_6mths  sec_app_mort_acc  \\\n",
       "0                       NaN                     NaN               NaN   \n",
       "1                       NaN                     NaN               NaN   \n",
       "2                       NaN                     NaN               NaN   \n",
       "3                       NaN                     NaN               NaN   \n",
       "4                       NaN                     NaN               NaN   \n",
       "\n",
       "   sec_app_open_acc  sec_app_revol_util  sec_app_open_act_il  \\\n",
       "0               NaN                 NaN                  NaN   \n",
       "1               NaN                 NaN                  NaN   \n",
       "2               NaN                 NaN                  NaN   \n",
       "3               NaN                 NaN                  NaN   \n",
       "4               NaN                 NaN                  NaN   \n",
       "\n",
       "   sec_app_num_rev_accts  sec_app_chargeoff_within_12_mths  \\\n",
       "0                    NaN                               NaN   \n",
       "1                    NaN                               NaN   \n",
       "2                    NaN                               NaN   \n",
       "3                    NaN                               NaN   \n",
       "4                    NaN                               NaN   \n",
       "\n",
       "   sec_app_collections_12_mths_ex_med  sec_app_mths_since_last_major_derog  \\\n",
       "0                                 NaN                                  NaN   \n",
       "1                                 NaN                                  NaN   \n",
       "2                                 NaN                                  NaN   \n",
       "3                                 NaN                                  NaN   \n",
       "4                                 NaN                                  NaN   \n",
       "\n",
       "  hardship_flag  hardship_type  hardship_reason  hardship_status  \\\n",
       "0             N            NaN              NaN              NaN   \n",
       "1             N            NaN              NaN              NaN   \n",
       "2             N            NaN              NaN              NaN   \n",
       "3             N            NaN              NaN              NaN   \n",
       "4             N            NaN              NaN              NaN   \n",
       "\n",
       "   deferral_term  hardship_amount  hardship_start_date  hardship_end_date  \\\n",
       "0            NaN              NaN                  NaN                NaN   \n",
       "1            NaN              NaN                  NaN                NaN   \n",
       "2            NaN              NaN                  NaN                NaN   \n",
       "3            NaN              NaN                  NaN                NaN   \n",
       "4            NaN              NaN                  NaN                NaN   \n",
       "\n",
       "   payment_plan_start_date  hardship_length  hardship_dpd  \\\n",
       "0                      NaN              NaN           NaN   \n",
       "1                      NaN              NaN           NaN   \n",
       "2                      NaN              NaN           NaN   \n",
       "3                      NaN              NaN           NaN   \n",
       "4                      NaN              NaN           NaN   \n",
       "\n",
       "   hardship_loan_status  orig_projected_additional_accrued_interest  \\\n",
       "0                   NaN                                         NaN   \n",
       "1                   NaN                                         NaN   \n",
       "2                   NaN                                         NaN   \n",
       "3                   NaN                                         NaN   \n",
       "4                   NaN                                         NaN   \n",
       "\n",
       "   hardship_payoff_balance_amount  hardship_last_payment_amount  \\\n",
       "0                             NaN                           NaN   \n",
       "1                             NaN                           NaN   \n",
       "2                             NaN                           NaN   \n",
       "3                             NaN                           NaN   \n",
       "4                             NaN                           NaN   \n",
       "\n",
       "  debt_settlement_flag debt_settlement_flag_date settlement_status  \\\n",
       "0                    N                       NaN               NaN   \n",
       "1                    N                       NaN               NaN   \n",
       "2                    N                       NaN               NaN   \n",
       "3                    N                       NaN               NaN   \n",
       "4                    N                       NaN               NaN   \n",
       "\n",
       "  settlement_date  settlement_amount  settlement_percentage  settlement_term  \n",
       "0             NaN                NaN                    NaN              NaN  \n",
       "1             NaN                NaN                    NaN              NaN  \n",
       "2             NaN                NaN                    NaN              NaN  \n",
       "3             NaN                NaN                    NaN              NaN  \n",
       "4             NaN                NaN                    NaN              NaN  "
      ]
     },
     "execution_count": 379,
     "metadata": {},
     "output_type": "execute_result"
    }
   ],
   "source": [
    "df.head()"
   ]
  },
  {
   "cell_type": "markdown",
   "metadata": {},
   "source": [
    "28 columns are categorical/object  \n",
    "\n",
    "122 columns are numerical/float\n",
    "\n",
    "We can see that many of the attributes have complete missing values\n",
    "\n",
    "target variable is loan_status\n"
   ]
  },
  {
   "cell_type": "markdown",
   "metadata": {},
   "source": [
    "#### Loan Count"
   ]
  },
  {
   "cell_type": "code",
   "execution_count": 380,
   "metadata": {},
   "outputs": [
    {
     "data": {
      "text/plain": [
       "Dec-2011    2267\n",
       "Nov-2011    2232\n",
       "Oct-2011    2118\n",
       "Sep-2011    2067\n",
       "Aug-2011    1934\n",
       "Jul-2011    1875\n",
       "Jun-2011    1835\n",
       "May-2011    1704\n",
       "Apr-2011    1563\n",
       "Mar-2011    1447\n",
       "Name: issue_d, dtype: int64"
      ]
     },
     "execution_count": 380,
     "metadata": {},
     "output_type": "execute_result"
    }
   ],
   "source": [
    "df.id.nunique() # total unique 42535 loan records\n",
    "df.issue_d.value_counts().sort_values(ascending=False)[:10] #Dec-2011 month has seen highest application of loan"
   ]
  },
  {
   "cell_type": "markdown",
   "metadata": {},
   "source": [
    "#### Loan Issue Duration\n",
    "We will derive year of application and quarter of application"
   ]
  },
  {
   "cell_type": "code",
   "execution_count": 381,
   "metadata": {},
   "outputs": [],
   "source": [
    "df['issue_date'] = pd.to_datetime(df.issue_d)\n",
    "df['issue_quarter'] = df.issue_date.apply(lambda x:x.quarter)\n",
    "df.issue_quarter = df.issue_quarter.astype(str)\n",
    "df.issue_quarter.value_counts()\n",
    "df['issue_year'] = df.issue_date.apply(lambda x:x.year)\n",
    "df.issue_year.value_counts()\n",
    "del df['issue_d']"
   ]
  },
  {
   "cell_type": "markdown",
   "metadata": {},
   "source": [
    "#### Response Variable"
   ]
  },
  {
   "cell_type": "code",
   "execution_count": 382,
   "metadata": {},
   "outputs": [
    {
     "name": "stdout",
     "output_type": "stream",
     "text": [
      "Fully Paid                                             34113\n",
      "Charged Off                                             5670\n",
      "Does not meet the credit policy. Status:Fully Paid      1988\n",
      "Does not meet the credit policy. Status:Charged Off      761\n",
      "Name: loan_status, dtype: int64\n"
     ]
    },
    {
     "data": {
      "text/plain": [
       "[Text(0, 0, 'Fully Paid'),\n",
       " Text(0, 0, 'Charged Off'),\n",
       " Text(0, 0, 'Does not meet the credit policy. Status:Fully Paid'),\n",
       " Text(0, 0, 'Does not meet the credit policy. Status:Charged Off')]"
      ]
     },
     "execution_count": 382,
     "metadata": {},
     "output_type": "execute_result"
    },
    {
     "data": {
      "image/png": "[encoded data removed]",
      "text/plain": [
       "<Figure size 720x144 with 1 Axes>"
      ]
     },
     "metadata": {
      "needs_background": "light"
     },
     "output_type": "display_data"
    }
   ],
   "source": [
    "print(df.loan_status.value_counts())\n",
    "fig, ax =plt.subplots(1,1,figsize=(10,2))\n",
    "s0 = sns.countplot(x=\"loan_status\", data=df,ax=ax)\n",
    "s0.set_xticklabels(s0.get_xticklabels(),rotation=90)"
   ]
  },
  {
   "cell_type": "markdown",
   "metadata": {},
   "source": [
    "###### Removing loan_types 'Does not meet credit policy...' because  It is not clear why loans are given to users that “Does not meet the credit policy” and there is not much documentation on these categories."
   ]
  },
  {
   "cell_type": "code",
   "execution_count": 383,
   "metadata": {},
   "outputs": [],
   "source": [
    "df = df[(df['loan_status']=='Fully Paid') | (df['loan_status']=='Charged Off')] \n",
    "df['Loan_Default'] = np.where(df['loan_status']=='Fully Paid','No','Yes')\n",
    "df['Loan_Default'] = df['Loan_Default'].astype(str)\n",
    "del df['loan_status']"
   ]
  },
  {
   "cell_type": "markdown",
   "metadata": {},
   "source": [
    "## Exploratory Data Analysis\n"
   ]
  },
  {
   "cell_type": "markdown",
   "metadata": {},
   "source": [
    "Since many columns contain a high amount of missing values [more than 20%] . \n",
    "\n",
    "we can reduce memory via dropping these columns .\n",
    "\n",
    "we will drop these columns because imputation will on a large portion of data  ."
   ]
  },
  {
   "cell_type": "code",
   "execution_count": 384,
   "metadata": {},
   "outputs": [],
   "source": [
    "missing_values = df.isnull().mean().sort_values(ascending=False) \n",
    "len(missing_values[missing_values==1]*100)\n",
    "# total  83 columns are there which have 100% missing data\n",
    "high_missingvalue_col = sorted(list(missing_values[missing_values > 0.2].index))\n",
    "#print(high_missingvalue_col)\n",
    "df= df.drop(high_missingvalue_col,axis=1)"
   ]
  },
  {
   "cell_type": "markdown",
   "metadata": {},
   "source": [
    "We include only those variables in model development which will be availble to investors during time of application\n",
    "Only keep loan features known to potential investors\n"
   ]
  },
  {
   "cell_type": "code",
   "execution_count": 385,
   "metadata": {},
   "outputs": [],
   "source": [
    "Dropping_Variables= ['acc_now_delinq','collection_recovery_fee','delinq_2yrs','debt_settlement_flag','delinq_amnt',\n",
    "'funded_amnt','funded_amnt_inv','last_credit_pull_d',\n",
    "'last_fico_range_high','last_fico_range_low','last_pymnt_amnt',\n",
    "'last_pymnt_d','out_prncp','out_prncp_inv','recoveries',\n",
    "'total_pymnt','total_pymnt_inv','total_rec_int','total_rec_late_fee',\n",
    "    'total_rec_prncp']\n",
    "df = df.drop(Dropping_Variables,axis=1)"
   ]
  },
  {
   "cell_type": "markdown",
   "metadata": {},
   "source": [
    "#### Univariate Analysis "
   ]
  },
  {
   "cell_type": "markdown",
   "metadata": {},
   "source": [
    "Many variables have only 1 value. These can be dropped"
   ]
  },
  {
   "cell_type": "code",
   "execution_count": 386,
   "metadata": {},
   "outputs": [
    {
     "data": {
      "text/plain": [
       "id             39783\n",
       "url            39783\n",
       "emp_title      28861\n",
       "revol_bal      21737\n",
       "title          19642\n",
       "installment    15404\n",
       "annual_inc      5323\n",
       "dti             2868\n",
       "revol_util      1089\n",
       "loan_amnt        885\n",
       "dtype: int64"
      ]
     },
     "execution_count": 386,
     "metadata": {},
     "output_type": "execute_result"
    }
   ],
   "source": [
    "unique = df.nunique()[df.nunique()==1].index \n",
    "df = df.drop(unique,axis=1)\n",
    "df.nunique().sort_values(ascending=False)[:10] # top 10 variables with their unique values"
   ]
  },
  {
   "cell_type": "code",
   "execution_count": 387,
   "metadata": {},
   "outputs": [
    {
     "name": "stdout",
     "output_type": "stream",
     "text": [
      "39783 Unique IDs\n"
     ]
    }
   ],
   "source": [
    "print(df.id.nunique(), 'Unique IDs')\n",
    "# this is a nominal variable which won't add any value in model training, so we will drop this\n",
    "df = df.drop(columns= 'id')"
   ]
  },
  {
   "cell_type": "code",
   "execution_count": 388,
   "metadata": {},
   "outputs": [
    {
     "name": "stdout",
     "output_type": "stream",
     "text": [
      "0                         NaN\n",
      "1                       Ryder\n",
      "2                         NaN\n",
      "3         AIR RESOURCES BOARD\n",
      "4    University Medical Group\n",
      "Name: emp_title, dtype: object\n",
      "28861 Unique Emp_Titles\n"
     ]
    }
   ],
   "source": [
    "df.emp_title.head()\n",
    "print(df.emp_title.head(5))\n",
    "print(df.emp_title.nunique(),'Unique Emp_Titles') # Emp_Title column contains a high number of unique values , this can be dropped\n",
    "del df['emp_title']"
   ]
  },
  {
   "cell_type": "code",
   "execution_count": 389,
   "metadata": {},
   "outputs": [
    {
     "name": "stdout",
     "output_type": "stream",
     "text": [
      "39783 Unique URLS\n"
     ]
    }
   ],
   "source": [
    "df.url.head()\n",
    "print(df.url.nunique(),'Unique URLS') # URL column contains a high number of unique values , this can be dropped\n",
    "del df['url']"
   ]
  },
  {
   "cell_type": "code",
   "execution_count": 390,
   "metadata": {},
   "outputs": [
    {
     "name": "stdout",
     "output_type": "stream",
     "text": [
      "0                Computer\n",
      "1                    bike\n",
      "2    real estate business\n",
      "3                personel\n",
      "4                Personal\n",
      "Name: title, dtype: object\n",
      "19642 Unique Titles\n"
     ]
    }
   ],
   "source": [
    "df.title.head()\n",
    "print(df.title.head(5))\n",
    "print(df.title.nunique(), 'Unique Titles') # Title column contains a high number of unique values , this can be dropped \n",
    "del df['title']"
   ]
  },
  {
   "cell_type": "code",
   "execution_count": 391,
   "metadata": {},
   "outputs": [
    {
     "data": {
      "text/plain": [
       "[Text(0, 0, ' 36 months'), Text(0, 0, ' 60 months')]"
      ]
     },
     "execution_count": 391,
     "metadata": {},
     "output_type": "execute_result"
    },
    {
     "data": {
      "image/png": "[encoded data removed]",
      "text/plain": [
       "<Figure size 1296x432 with 3 Axes>"
      ]
     },
     "metadata": {
      "needs_background": "light"
     },
     "output_type": "display_data"
    }
   ],
   "source": [
    "fig, ax =plt.subplots(1,3,figsize=(18,6))\n",
    "plt.subplots_adjust(hspace = 0.4, top = 1.0)\n",
    "\n",
    "s1 = sns.countplot(x=\"home_ownership\", data=df,ax=ax[0])\n",
    "s1.set_xticklabels(s1.get_xticklabels(),rotation=45)\n",
    "\n",
    "s1 = sns.countplot(x=\"issue_quarter\", data=df,ax=ax[1])\n",
    "s1.set_xticklabels(s1.get_xticklabels(),rotation=45)\n",
    "\n",
    "s0 = sns.countplot(x=\"term\", data=df,ax=ax[2])\n",
    "s0.set_xticklabels(s0.get_xticklabels(),rotation=45)"
   ]
  },
  {
   "cell_type": "markdown",
   "metadata": {},
   "source": [
    "\n",
    "Maximum number of loans are issued for 3 year duration\n",
    "\n",
    "People who OWN house less apply for loan \n",
    "\n",
    "Maximum number of loans issues in 4th quarter\n"
   ]
  },
  {
   "cell_type": "code",
   "execution_count": 392,
   "metadata": {},
   "outputs": [],
   "source": [
    "#Data Dictionary: \"The home ownership status provided by the borrower during registration or obtained from the credit report. Our values are: RENT, OWN, MORTGAGE, OTHER.\"\n",
    "df['home_ownership'] = np.where(df['home_ownership']=='NONE','OTHER',df['home_ownership'])"
   ]
  },
  {
   "cell_type": "code",
   "execution_count": 393,
   "metadata": {},
   "outputs": [
    {
     "data": {
      "text/plain": [
       "[Text(0, 0, 'B'),\n",
       " Text(0, 0, 'C'),\n",
       " Text(0, 0, 'A'),\n",
       " Text(0, 0, 'E'),\n",
       " Text(0, 0, 'F'),\n",
       " Text(0, 0, 'D'),\n",
       " Text(0, 0, 'G')]"
      ]
     },
     "execution_count": 393,
     "metadata": {},
     "output_type": "execute_result"
    },
    {
     "data": {
      "image/png": "[encoded data removed]",
      "text/plain": [
       "<Figure size 1296x432 with 2 Axes>"
      ]
     },
     "metadata": {
      "needs_background": "light"
     },
     "output_type": "display_data"
    }
   ],
   "source": [
    "fig, ax =plt.subplots(1,2,figsize=(18,6))\n",
    "plt.subplots_adjust(hspace = 0.4, top = 1.0)\n",
    "\n",
    "#Employment length in years. Possible values are between 0 and 10 where 0 means less than one year and 10 means ten or more years. \n",
    "s0 = sns.countplot(x=\"emp_length\", data=df,ax=ax[0])\n",
    "s0.set_xticklabels(s0.get_xticklabels(),rotation=45)\n",
    "\n",
    "s1 = sns.countplot(x=\"grade\", data=df,ax=ax[1])\n",
    "s1.set_xticklabels(s1.get_xticklabels(),rotation=45)"
   ]
  },
  {
   "cell_type": "markdown",
   "metadata": {},
   "source": [
    "People with higher experience prefer loan first; probably requirements raised due to family need"
   ]
  },
  {
   "cell_type": "code",
   "execution_count": 394,
   "metadata": {},
   "outputs": [
    {
     "data": {
      "text/plain": [
       "[Text(0, 0, 'B2'),\n",
       " Text(0, 0, 'C4'),\n",
       " Text(0, 0, 'C5'),\n",
       " Text(0, 0, 'C1'),\n",
       " Text(0, 0, 'B5'),\n",
       " Text(0, 0, 'A4'),\n",
       " Text(0, 0, 'E1'),\n",
       " Text(0, 0, 'F2'),\n",
       " Text(0, 0, 'C3'),\n",
       " Text(0, 0, 'B1'),\n",
       " Text(0, 0, 'D1'),\n",
       " Text(0, 0, 'A1'),\n",
       " Text(0, 0, 'B3'),\n",
       " Text(0, 0, 'B4'),\n",
       " Text(0, 0, 'C2'),\n",
       " Text(0, 0, 'D2'),\n",
       " Text(0, 0, 'A3'),\n",
       " Text(0, 0, 'A5'),\n",
       " Text(0, 0, 'D5'),\n",
       " Text(0, 0, 'A2'),\n",
       " Text(0, 0, 'E4'),\n",
       " Text(0, 0, 'D3'),\n",
       " Text(0, 0, 'D4'),\n",
       " Text(0, 0, 'F3'),\n",
       " Text(0, 0, 'E3'),\n",
       " Text(0, 0, 'F4'),\n",
       " Text(0, 0, 'F1'),\n",
       " Text(0, 0, 'E5'),\n",
       " Text(0, 0, 'G4'),\n",
       " Text(0, 0, 'E2'),\n",
       " Text(0, 0, 'G3'),\n",
       " Text(0, 0, 'G2'),\n",
       " Text(0, 0, 'G1'),\n",
       " Text(0, 0, 'F5'),\n",
       " Text(0, 0, 'G5')]"
      ]
     },
     "execution_count": 394,
     "metadata": {},
     "output_type": "execute_result"
    },
    {
     "data": {
      "image/png": "[encoded data removed]",
      "text/plain": [
       "<Figure size 1296x432 with 1 Axes>"
      ]
     },
     "metadata": {
      "needs_background": "light"
     },
     "output_type": "display_data"
    }
   ],
   "source": [
    "fig, ax =plt.subplots(1,1,figsize=(18,6))\n",
    "plt.subplots_adjust(hspace = 0.4, top = 1.0)\n",
    "\n",
    "#Lending card assigned loan sub_grade\n",
    "s0 = sns.countplot(x=\"sub_grade\", data=df,ax=ax)\n",
    "s0.set_xticklabels(s0.get_xticklabels(),rotation=45)"
   ]
  },
  {
   "cell_type": "code",
   "execution_count": 395,
   "metadata": {},
   "outputs": [],
   "source": [
    "#Since sub_grades are subset of Grades, we can exclude 'sub_grades ' and include only 'Grades'\n",
    "df = df.drop('sub_grade',axis=1)"
   ]
  },
  {
   "cell_type": "markdown",
   "metadata": {},
   "source": [
    "###### We can derived MOB ( Month on Board ):  Difference between \"loan application month\" and \"earliest_cr_line: The month the borrower's earliest reported credit line was opened\""
   ]
  },
  {
   "cell_type": "code",
   "execution_count": 396,
   "metadata": {},
   "outputs": [
    {
     "name": "stdout",
     "output_type": "stream",
     "text": [
      "0    Jan-1985\n",
      "1    Apr-1999\n",
      "2    Nov-2001\n",
      "3    Feb-1996\n",
      "4    Jan-1996\n",
      "Name: earliest_cr_line, dtype: object\n"
     ]
    }
   ],
   "source": [
    "print(df.earliest_cr_line.head())\n",
    "df['earliest_cr_line_date'] = pd.to_datetime(df.earliest_cr_line)\n",
    "df['MOB'] = df['issue_date']  - df['earliest_cr_line_date']\n",
    "df['MOB'] = df['MOB'].apply(lambda x:int((x.days)/30))\n",
    "df = df.drop(['earliest_cr_line','issue_date','earliest_cr_line_date'],axis=1)"
   ]
  },
  {
   "cell_type": "markdown",
   "metadata": {},
   "source": [
    "\"pub_rec_bankruptcies\": Number of public record bankruptcies. \n",
    "we can bucketize it into zero and non-zero to reduce biasness into data which was caused by low frequent categories"
   ]
  },
  {
   "cell_type": "code",
   "execution_count": 397,
   "metadata": {},
   "outputs": [],
   "source": [
    "df.pub_rec_bankruptcies.value_counts() \n",
    "df.pub_rec_bankruptcies = np.where(df.pub_rec_bankruptcies>0,'Greater_Than_Zero','Zero')\n",
    "df.pub_rec.value_counts()\n",
    "df.pub_rec = np.where(df.pub_rec>0,'Greater_Than_Zero','Zero')"
   ]
  },
  {
   "cell_type": "code",
   "execution_count": 398,
   "metadata": {},
   "outputs": [
    {
     "name": "stdout",
     "output_type": "stream",
     "text": [
      "50 Total Distinct States\n",
      "823 Total Distinct ZipCode\n"
     ]
    }
   ],
   "source": [
    "print(df.addr_state.nunique(), 'Total Distinct States')\n",
    "# we can drop this because this is nominal variable and contains 50 catgories\n",
    "print(df.zip_code.nunique(), 'Total Distinct ZipCode')\n",
    "# we can drop this because this is nominal variable and contains 823 catgories\n",
    "\n",
    "df = df.drop(['addr_state','zip_code'],axis=1)\n"
   ]
  },
  {
   "cell_type": "markdown",
   "metadata": {},
   "source": [
    "Converting Rates into Floats"
   ]
  },
  {
   "cell_type": "code",
   "execution_count": 399,
   "metadata": {},
   "outputs": [],
   "source": [
    "df['revol_util'] = df['revol_util'].str.replace('%','')\n",
    "df['revol_util'] = df['revol_util'].astype(float)\n",
    "\n",
    "df['int_rate'] = df['int_rate'].str.replace('%','')\n",
    "df['int_rate'] = df['int_rate'].astype(float)"
   ]
  },
  {
   "cell_type": "code",
   "execution_count": 400,
   "metadata": {},
   "outputs": [
    {
     "data": {
      "image/png": "[encoded data removed]",
      "text/plain": [
       "<Figure size 1296x864 with 12 Axes>"
      ]
     },
     "metadata": {
      "needs_background": "light"
     },
     "output_type": "display_data"
    }
   ],
   "source": [
    "fig, ax =plt.subplots(4,3, figsize=(18,12))\n",
    "plt.subplots_adjust(hspace = 0.4, top = 0.8)\n",
    "\n",
    "#sns.distplot(df.loan_amnt,  axlabel=\"Loan Amount\", label=\"Loan Amount Frequency distribution\",color='y',ax=ax[0][0])\n",
    "sns.boxplot(df.loan_amnt, ax=ax[0][0])\n",
    "fig.show()\n",
    "# installment distribution plot\n",
    "sns.boxplot(df.installment, ax=ax[0][1]) #The monthly payment owed by the borrower if the loan originates.\n",
    "fig.show()\n",
    "# funded_annual_inc distribution plot\n",
    "sns.boxplot(df.annual_inc,  ax=ax[0][2])\n",
    "fig.show()\n",
    "# sti ( debt to income ratio ) distribution plot\n",
    "sns.boxplot(df.dti, ax=ax[1][0])\n",
    "fig.show()\n",
    "# fico_range_high  distribution plot\n",
    "sns.boxplot(df.fico_range_high, ax=ax[1][1]) #fico score is a 300-850 range score that signifies credit worthiness of borrower\n",
    "fig.show()\n",
    "# inq_last_6mths (enqiry last month) distribution plot\n",
    "sns.boxplot(df.inq_last_6mths, ax=ax[1][2])\n",
    "fig.show()\n",
    "# delinq_amnt distribution plot\n",
    "sns.boxplot(df.open_acc, ax=ax[2][0])\n",
    "fig.show()\n",
    "# revol_bal distribution plot\n",
    "sns.boxplot(df.revol_bal, ax=ax[2][1]) #In credit card terms, a revolving balance is the portion of credit card spending that goes unpaid at the end of a billing cycle\n",
    "fig.show()\n",
    "# total_acc  distribution plot\n",
    "sns.boxplot(df.total_acc, ax=ax[2][2]) # The total number of credit lines currently in the borrower's credit file\n",
    "fig.show()\n",
    "# MOB distribution plot\n",
    "sns.boxplot(df.MOB, ax=ax[3][0])\n",
    "fig.show()\n",
    "\n",
    "# revol_util distribution plot\n",
    "sns.boxplot(df.revol_util, ax=ax[3][1]) # revolving utilization ratio is also known as  debt-to-limit ratio or credit utilization ratio\n",
    "fig.show()\n",
    "\n",
    "# int_rate (Interest Rate on the loan) distribution plot\n",
    "sns.boxplot(df.int_rate, ax=ax[3][2]) \n",
    "fig.show()\n",
    "\n"
   ]
  },
  {
   "cell_type": "markdown",
   "metadata": {},
   "source": [
    "Insight: \n",
    "    \n",
    "Although most of the variables show values beyond upper whisker of box plot but as per business sense Outliers that can be considered in revol_bal,fico_range_high, annual_inc,total_Acc,open_acc,MOB. We will treat outliers in \n"
   ]
  },
  {
   "cell_type": "markdown",
   "metadata": {},
   "source": [
    "#### Bivariate Analysis\n"
   ]
  },
  {
   "cell_type": "code",
   "execution_count": 401,
   "metadata": {},
   "outputs": [
    {
     "data": {
      "image/png": "[encoded data removed]",
      "text/plain": [
       "<Figure size 1296x1080 with 12 Axes>"
      ]
     },
     "metadata": {
      "needs_background": "light"
     },
     "output_type": "display_data"
    }
   ],
   "source": [
    "fig, ax =plt.subplots(4,3, figsize=(18,15))\n",
    "plt.subplots_adjust(hspace = 0.4, top = 0.8)\n",
    "\n",
    "#sns.distplot(df.loan_amnt,  axlabel=\"Loan Amount\", label=\"Loan Amount Frequency distribution\",color='y',ax=ax[0][0])\n",
    "sns.boxplot(x=df.loan_amnt,y=df.Loan_Default, ax=ax[0][0])\n",
    "fig.show()\n",
    "# installment distribution plot\n",
    "sns.boxplot(df.installment,y=df.Loan_Default, ax=ax[0][1]) #The monthly payment owed by the borrower if the loan originates.\n",
    "fig.show()\n",
    "# funded_annual_inc distribution plot\n",
    "sns.boxplot(df.annual_inc, y=df.Loan_Default, ax=ax[0][2])\n",
    "fig.show()\n",
    "# sti ( debt to income ratio ) distribution plot\n",
    "sns.boxplot(df.dti,y=df.Loan_Default, ax=ax[1][0])\n",
    "fig.show()\n",
    "# fico_range_high  distribution plot\n",
    "sns.boxplot(df.fico_range_high,y=df.Loan_Default, ax=ax[1][1]) #fico score is a 300-850 range score that signifies credit worthiness of borrower\n",
    "fig.show()\n",
    "# inq_last_6mths (enqiry last month) distribution plot\n",
    "sns.boxplot(df.inq_last_6mths,y=df.Loan_Default, ax=ax[1][2])\n",
    "fig.show()\n",
    "# delinq_amnt distribution plot\n",
    "sns.boxplot(df.open_acc, y=df.Loan_Default,ax=ax[2][0])\n",
    "fig.show()\n",
    "# revol_bal distribution plot\n",
    "sns.boxplot(df.revol_bal,y=df.Loan_Default, ax=ax[2][1]) #In credit card terms, a revolving balance is the portion of credit card spending that goes unpaid at the end of a billing cycle\n",
    "fig.show()\n",
    "# total_acc  distribution plot\n",
    "sns.boxplot(df.total_acc,y=df.Loan_Default, ax=ax[2][2]) # The total number of credit lines currently in the borrower's credit file\n",
    "fig.show()\n",
    "# MOB distribution plot\n",
    "sns.boxplot(df.MOB, y=df.Loan_Default,ax=ax[3][0])\n",
    "fig.show()\n",
    "# revol_util distribution plot\n",
    "sns.boxplot(df.revol_util,y=df.Loan_Default, ax=ax[3][1]) # revolving utilization ratio is also known as  debt-to-limit ratio or credit utilization ratio\n",
    "fig.show()\n",
    "# int_rate (Interest Rate on the loan) distribution plot\n",
    "sns.boxplot(df.int_rate,y=df.Loan_Default, ax=ax[3][2]) \n",
    "fig.show()"
   ]
  },
  {
   "cell_type": "markdown",
   "metadata": {},
   "source": [
    "Insights: \n",
    "\n",
    "1. Higher loan amount shows higher trend for default loans \n",
    "\n",
    "2. clearly we can see that loans which were applied by higher annual_income customers, more incliend to pay full loan\n",
    "\n",
    "3. Loan with higher interest rate shows higher trend for default\n",
    "\n",
    "4. Low fico_range_high shows higher trend for default\n",
    "\n",
    "5. Applicants who made more enquiries in last 6 months show higher trend for default\n",
    "\n",
    "6. Applicants with higher debt to income ratio tend to default more\n",
    "\n",
    "7. Applicants who have utilized higher debt (out of their total credit limit) more inclined to default"
   ]
  },
  {
   "cell_type": "code",
   "execution_count": 402,
   "metadata": {},
   "outputs": [
    {
     "data": {
      "image/png": "[encoded data removed]",
      "text/plain": [
       "<Figure size 600x480 with 6 Axes>"
      ]
     },
     "metadata": {
      "needs_background": "light"
     },
     "output_type": "display_data"
    }
   ],
   "source": [
    "# loan of 60 months durations have higher proportion of defaults\n",
    "f, ((ax1,ax2),(ax3,ax4),(ax5,ax6)) = plt.subplots(nrows=3, ncols=2, figsize=(10,8), dpi=60)\n",
    "\n",
    "charge_off_rates = pd.crosstab(df.term, df.Loan_Default, dropna=False,normalize = 'index').loc[:,'Yes']\n",
    "sns.barplot(x=charge_off_rates.index, y=charge_off_rates.values ,saturation=1,ax=ax1)\n",
    "ax1.set_ylabel('proportion of Defaults')\n",
    "ax1.set_title('LoanDefault Rate by ' + 'term')\n",
    "ax1.set_xlabel('Loan_Default')\n",
    "plt.tight_layout()\n",
    "\n",
    "\n",
    "charge_off_rates2 = pd.crosstab(df.verification_status, df.Loan_Default, dropna=False,normalize = 'index').loc[:,'Yes']\n",
    "sns.barplot(x=charge_off_rates2.index, y=charge_off_rates2.values ,saturation=1,ax=ax2)\n",
    "ax2.set_ylabel('proportion of Defaults')\n",
    "ax2.set_title('LoanDefault Rate by ' + 'verification_status')\n",
    "ax2.set_xlabel('Loan_Default')\n",
    "plt.tight_layout()\n",
    "\n",
    "charge_off_rates3 = pd.crosstab(df.grade, df.Loan_Default, dropna=False,normalize = 'index').loc[:,'Yes']\n",
    "sns.barplot(x=charge_off_rates3.index, y=charge_off_rates3.values ,saturation=1,ax=ax3)\n",
    "ax3.set_ylabel('proportion of Defaults')\n",
    "ax3.set_title('LoanDefault Rate by ' + 'grade')\n",
    "ax3.set_xlabel('Loan_Default')\n",
    "plt.tight_layout()\n",
    "\n",
    "charge_off_rates4 = pd.crosstab(df.issue_quarter, df.Loan_Default, dropna=False,normalize = 'index').loc[:,'Yes']\n",
    "sns.barplot(x=charge_off_rates4.index, y=charge_off_rates4.values ,saturation=1,ax=ax4)\n",
    "ax4.set_ylabel('proportion of Defaults')\n",
    "ax4.set_title('LoanDefault Rate by ' + 'issue_quarter')\n",
    "ax4.set_xlabel('Loan_Default')\n",
    "plt.tight_layout()\n",
    "\n",
    "charge_off_rates5 = pd.crosstab(df.home_ownership, df.Loan_Default, dropna=False,normalize = 'index').loc[:,'Yes']\n",
    "sns.barplot(x=charge_off_rates5.index, y=charge_off_rates5.values ,saturation=1,ax=ax5)\n",
    "ax5.set_ylabel('proportion of Defaults')\n",
    "ax5.set_title('LoanDefault Rate by ' + 'home_ownership')\n",
    "ax5.set_xlabel('Loan_Default')\n",
    "plt.tight_layout()\n",
    "\n",
    "charge_off_rates6 = pd.crosstab(df.pub_rec_bankruptcies, df.Loan_Default, dropna=False,normalize = 'index').loc[:,'Yes']\n",
    "sns.barplot(x=charge_off_rates6.index, y=charge_off_rates6.values ,saturation=1,ax=ax6)\n",
    "ax6.set_ylabel('proportion of Defaults')\n",
    "ax6.set_title('LoanDefault Rate by ' + 'pub_rec_bankruptcies')\n",
    "ax6.set_xlabel('Loan_Default')\n",
    "plt.tight_layout()\n",
    "\n"
   ]
  },
  {
   "cell_type": "markdown",
   "metadata": {},
   "source": [
    "Insights: \n",
    "\n",
    "1. Loans which were applied by people having bankrupties >0 have higher proportion of default\n",
    "\n",
    "2. Loans which were Not Verified have higher proportion of default\n",
    "\n",
    "3. loan of 60 months durations have higher proportion of defaults\n",
    "\n",
    "4. Loans have almost equal distributions across home_ownership for default/non_default cases"
   ]
  },
  {
   "cell_type": "code",
   "execution_count": 403,
   "metadata": {},
   "outputs": [],
   "source": [
    "df_copyfirst = df.copy()"
   ]
  },
  {
   "cell_type": "markdown",
   "metadata": {},
   "source": [
    "## Data Preparation \n"
   ]
  },
  {
   "cell_type": "markdown",
   "metadata": {},
   "source": [
    "#### Missing Data Imputation"
   ]
  },
  {
   "cell_type": "code",
   "execution_count": 404,
   "metadata": {},
   "outputs": [
    {
     "name": "stdout",
     "output_type": "stream",
     "text": [
      "emp_length    0.027097\n",
      "revol_util    0.001257\n",
      "dtype: float64\n"
     ]
    }
   ],
   "source": [
    "print(df.isnull().sum()[df.isnull().sum()> 0]/len(df))"
   ]
  },
  {
   "cell_type": "code",
   "execution_count": 405,
   "metadata": {},
   "outputs": [
    {
     "name": "stdout",
     "output_type": "stream",
     "text": [
      "variables having missing values\n",
      "emp_length    0.027097\n",
      "revol_util    0.001257\n",
      "dtype: float64\n",
      "------Imputation of \"revol_util\" \n",
      "47.73464538278688 Emp_Length Missing Count across LoanDefault=No\n",
      "55.62943226034667 Emp_Length Missing Count across LoanDefault=Yes\n",
      "CONCLUSION:- loan_default have higher revol_util mean in comparison to than loan_non_default so we can impute customized mean replacing missing reol_util\n",
      "------Imputation of \"Emp_Length\" \n",
      "10+ years    7550\n",
      "Name: emp_length, dtype: int64 Emp_Length Missing Count across LoanDefault=No\n",
      "10+ years    1348\n",
      "Name: emp_length, dtype: int64 Emp_Length Missing Count across LoanDefault=Yes\n",
      "CONCLUSION:- emp_length = 10+years is dominant in Default Loans and non default loans , we can impute this value inplace of missings\n"
     ]
    }
   ],
   "source": [
    "print('variables having missing values')\n",
    "print(df.isnull().sum()[df.isnull().sum()> 0]/len(df))\n",
    "\n",
    "print('------Imputation of \"revol_util\" ')\n",
    "print(df[df.Loan_Default=='No'].revol_util.mean(),'Emp_Length Missing Count across LoanDefault=No')\n",
    "print(df[df.Loan_Default=='Yes'].revol_util.mean(),'Emp_Length Missing Count across LoanDefault=Yes')\n",
    "print('CONCLUSION:- loan_default have higher revol_util mean in comparison to than loan_non_default so we can impute customized mean replacing missing reol_util')\n",
    "Mean1 = df[df.Loan_Default=='Yes']['revol_util'].mean()\n",
    "Mean2 = df[df.Loan_Default=='No']['revol_util'].mean()\n",
    "df['revol_util'] = np.where((df.revol_util.isnull()) & (df.Loan_Default=='Yes'),\n",
    "  Mean1,df['revol_util'])\n",
    "df['revol_util'] = np.where((df.revol_util.isnull()) & (df.Loan_Default=='No'),\n",
    "  Mean2,df['revol_util'])\n",
    "\n",
    "print('------Imputation of \"Emp_Length\" ')\n",
    "print(df[df.Loan_Default=='No'].emp_length.value_counts()[:1],'Emp_Length Missing Count across LoanDefault=No')\n",
    "print(df[df.Loan_Default=='Yes'].emp_length.value_counts()[:1],'Emp_Length Missing Count across LoanDefault=Yes')\n",
    "print('CONCLUSION:- emp_length = 10+years is dominant in Default Loans and non default loans , we can impute this value inplace of missings')\n",
    "df['emp_length'] = np.where(df.emp_length.isnull(),'10+years',df['emp_length'])\n"
   ]
  },
  {
   "cell_type": "markdown",
   "metadata": {},
   "source": [
    "#### Outlier Treatment"
   ]
  },
  {
   "cell_type": "code",
   "execution_count": 406,
   "metadata": {},
   "outputs": [],
   "source": [
    "NumericalCol = []\n",
    "for col in df.columns:\n",
    "    col = str(col)\n",
    "    typecol = df[col].dtypes\n",
    "    b = typecol.type\n",
    "    if b != np.object_:\n",
    "        NumericalCol.append(col)\n",
    "\n",
    "NumericalDf = df[NumericalCol]\n",
    "CatDf = df.drop(columns = NumericalCol)\n",
    "\n",
    "Q1 = NumericalDf.quantile(0.25)\n",
    "Q3 = NumericalDf.quantile(0.75)\n",
    "IQR = Q3 - Q1\n",
    "#print(IQR)\n",
    "def outlier(X):\n",
    "    Y = np.where((NumericalDf[NumericalDf.columns[X]] < (Q1[X] - 1.5 * IQR[X])) \n",
    "    |(NumericalDf[NumericalDf.columns[X]] > (Q3[X] + 1.5 * IQR[X])),NumericalDf[NumericalDf.columns[X]].median(),NumericalDf[NumericalDf.columns[X]])\n",
    "    return Y\n",
    "NumericalDf['fico_range_high'] = outlier(6)\n",
    "NumericalDf['revol_bal'] = outlier(9)\n",
    "NumericalDf['annual_inc'] = outlier(3)\n",
    "NumericalDf['total_Acc'] = outlier(11)\n",
    "NumericalDf['open_acc'] = outlier(8)\n",
    "NumericalDf['MOB'] = outlier(13)\n",
    "CatDf = CatDf.dropna()\n"
   ]
  },
  {
   "cell_type": "markdown",
   "metadata": {},
   "source": [
    "#### One Hot Encoding"
   ]
  },
  {
   "cell_type": "markdown",
   "metadata": {},
   "source": [
    "Target Variable"
   ]
  },
  {
   "cell_type": "code",
   "execution_count": 407,
   "metadata": {},
   "outputs": [],
   "source": [
    "CatDf['Loan_Default'] = np.where(CatDf['Loan_Default']=='Yes',1,0) \n",
    "Loan_Default = pd.DataFrame(CatDf['Loan_Default'])\n",
    "del CatDf['Loan_Default']"
   ]
  },
  {
   "cell_type": "markdown",
   "metadata": {},
   "source": [
    "Independent Variables"
   ]
  },
  {
   "cell_type": "code",
   "execution_count": 408,
   "metadata": {},
   "outputs": [],
   "source": [
    "enc = OneHotEncoder(sparse=False,handle_unknown = 'ignore')\n",
    "dummydata = enc.fit_transform(CatDf)\n",
    "dummydata = pd.DataFrame(dummydata)\n",
    "names = enc.get_feature_names(['term', 'grade', 'emp_length', 'home_ownership',\n",
    "       'verification_status', 'purpose', 'pub_rec', 'pub_rec_bankruptcies',\n",
    "       'issue_quarter'])\n",
    "#to include nueric user'[^ws]'\n",
    "names = [re.sub(r'[<]', \"LessThan\", d, flags=re.I) for d in names]\n",
    "names = [re.sub(r'[>]', \"GreaterThan\", d, flags=re.I) for d in names]\n",
    "names = [re.sub(r'[+]', \"Plus\", d, flags=re.I) for d in names]\n",
    "names = [re.sub(r'[ ]', \"_\", d, flags=re.I) for d in names] \n",
    "dummydata.columns = names"
   ]
  },
  {
   "cell_type": "code",
   "execution_count": 409,
   "metadata": {},
   "outputs": [],
   "source": [
    "df= pd.concat([NumericalDf,dummydata,Loan_Default],axis=1)"
   ]
  },
  {
   "cell_type": "code",
   "execution_count": 410,
   "metadata": {},
   "outputs": [],
   "source": [
    "df_copySecond = df.copy()"
   ]
  },
  {
   "cell_type": "markdown",
   "metadata": {},
   "source": [
    "Handling Unbalance Data: No Need of Oversampling"
   ]
  },
  {
   "cell_type": "code",
   "execution_count": 411,
   "metadata": {},
   "outputs": [
    {
     "name": "stdout",
     "output_type": "stream",
     "text": [
      "0    0.857477\n",
      "1    0.142523\n",
      "Name: Loan_Default, dtype: float64\n"
     ]
    }
   ],
   "source": [
    "print(df.Loan_Default.value_counts()/len(df))"
   ]
  },
  {
   "cell_type": "markdown",
   "metadata": {},
   "source": [
    "#### Splitting data for modelling\n",
    "Model data: Loan Applications for year 2007 and 2009-2011 are taken for modelling\n",
    "\n",
    "Holdout data: Loan Applications for year 2008 are taken for modelling"
   ]
  },
  {
   "cell_type": "code",
   "execution_count": 412,
   "metadata": {},
   "outputs": [],
   "source": [
    "df['issue_year'] = df['issue_year'].astype(int)\n",
    "modeldata = df[df['issue_year']!=2008]\n",
    "del modeldata['issue_year']\n",
    "holdoutdata = df[df['issue_year']==2008]\n",
    "del holdoutdata['issue_year']"
   ]
  },
  {
   "cell_type": "code",
   "execution_count": 413,
   "metadata": {},
   "outputs": [],
   "source": [
    "y = pd.DataFrame(modeldata['Loan_Default'])\n",
    "y = y.astype(int)\n",
    "X = modeldata.drop(['Loan_Default'],axis=1)"
   ]
  },
  {
   "cell_type": "markdown",
   "metadata": {},
   "source": [
    "#### Feature Scaling"
   ]
  },
  {
   "cell_type": "code",
   "execution_count": 414,
   "metadata": {},
   "outputs": [],
   "source": [
    "columns = X.columns\n",
    "Scale = StandardScaler()\n",
    "Scale.fit(X)\n",
    "X = Scale.transform(X)\n",
    "X= pd.DataFrame(X,columns = columns)"
   ]
  },
  {
   "cell_type": "markdown",
   "metadata": {},
   "source": [
    "#### Train/Test Split"
   ]
  },
  {
   "cell_type": "code",
   "execution_count": 415,
   "metadata": {},
   "outputs": [],
   "source": [
    "a = random.sample(range(0, X.shape[0]), int(X.shape[0]*0.70))\n",
    "X_train = X.iloc[a,] \n",
    "X_test = X.drop(X.index[a])\n",
    "y_train = y.iloc[a,] \n",
    "y_test = y.drop(y.index[a])"
   ]
  },
  {
   "cell_type": "markdown",
   "metadata": {},
   "source": [
    "#### Feature Selection\n",
    "we will use randomforest for selection of important features which is important in prediction of target variable"
   ]
  },
  {
   "cell_type": "code",
   "execution_count": 416,
   "metadata": {},
   "outputs": [],
   "source": [
    "clf = RandomForestClassifier(criterion = 'gini')\n",
    "sfm = SelectFromModel(clf, threshold=0.001) \n",
    "sfm.fit(X_train,y_train)\n",
    "X_train_new = sfm.transform(X_train)\n",
    "X_train_new = pd.DataFrame(X_train_new)\n",
    "X_test_new = sfm.transform(X_test)\n",
    "X_test_new = pd.DataFrame(X_test_new)\n",
    "X_train_new.columns= X_train.columns[sfm.get_support(indices=True)]\n",
    "X_test_new.columns= X_test.columns[sfm.get_support(indices=True)]"
   ]
  },
  {
   "cell_type": "markdown",
   "metadata": {},
   "source": [
    "## Model Development and Obtain best classifier through Parameter-Tuning via Cross validation"
   ]
  },
  {
   "cell_type": "markdown",
   "metadata": {},
   "source": [
    "### Logistic Regression "
   ]
  },
  {
   "cell_type": "code",
   "execution_count": 417,
   "metadata": {},
   "outputs": [
    {
     "name": "stdout",
     "output_type": "stream",
     "text": [
      "-----Best Parameters for Logistic Regression-----\n"
     ]
    },
    {
     "data": {
      "text/html": [
       "<div>\n",
       "<style scoped>\n",
       "    .dataframe tbody tr th:only-of-type {\n",
       "        vertical-align: middle;\n",
       "    }\n",
       "\n",
       "    .dataframe tbody tr th {\n",
       "        vertical-align: top;\n",
       "    }\n",
       "\n",
       "    .dataframe thead th {\n",
       "        text-align: right;\n",
       "    }\n",
       "</style>\n",
       "<table border=\"1\" class=\"dataframe\">\n",
       "  <thead>\n",
       "    <tr style=\"text-align: right;\">\n",
       "      <th></th>\n",
       "      <th>C</th>\n",
       "      <th>CV_accuracy</th>\n",
       "      <th>CV_recall</th>\n",
       "      <th>CV_precision</th>\n",
       "    </tr>\n",
       "  </thead>\n",
       "  <tbody>\n",
       "    <tr>\n",
       "      <th>0</th>\n",
       "      <td>0.1</td>\n",
       "      <td>0.858825</td>\n",
       "      <td>0.504827</td>\n",
       "      <td>0.661965</td>\n",
       "    </tr>\n",
       "  </tbody>\n",
       "</table>\n",
       "</div>"
      ],
      "text/plain": [
       "     C  CV_accuracy  CV_recall  CV_precision\n",
       "0  0.1     0.858825   0.504827      0.661965"
      ]
     },
     "execution_count": 417,
     "metadata": {},
     "output_type": "execute_result"
    }
   ],
   "source": [
    "scoring = ['precision_macro','recall_macro','accuracy']\n",
    "Matrix1 = pd.DataFrame(columns = ['CV_accuracy','CV_precision_macro','CV_recall_macro'])\n",
    "C = [-1,0,1,2]\n",
    "for i in C:\n",
    "    clf = linear_model.LogisticRegression(C = 10**i,random_state=0)\n",
    "    scores = cross_validate(estimator = clf,X=X_train_new, y=y_train,cv=3,scoring=scoring)\n",
    "    a = pd.DataFrame(scores)\n",
    "    a = a[['test_accuracy','test_precision_macro','test_recall_macro']]\n",
    "    a = a.rename(columns = {'test_accuracy':'CV_accuracy','test_precision_macro':'CV_precision_macro','test_recall_macro':'CV_recall_macro'})\n",
    "    a['C']=10**i\n",
    "    Matrix1 = pd.concat([a,Matrix1],axis=0)\n",
    "Matrix1 = pd.DataFrame(Matrix1.groupby(['C'])['CV_accuracy','CV_precision_macro','CV_recall_macro'].mean())\n",
    "Matrix1 = Matrix1.reset_index()\n",
    "Matrix1 = Matrix1.rename(columns = {'CV_precision_macro':'CV_precision','CV_recall_macro':'CV_recall'})\n",
    "print('-----Best Parameters for Logistic Regression-----')\n",
    "Matrix1[['C','CV_accuracy','CV_recall','CV_precision']][Matrix1['CV_recall'] ==Matrix1['CV_recall'].max()] \n"
   ]
  },
  {
   "cell_type": "markdown",
   "metadata": {},
   "source": [
    "### Random Forest \n"
   ]
  },
  {
   "cell_type": "code",
   "execution_count": 418,
   "metadata": {},
   "outputs": [
    {
     "name": "stdout",
     "output_type": "stream",
     "text": [
      "-----Best Parameters for Random Forest-----\n"
     ]
    },
    {
     "data": {
      "text/html": [
       "<div>\n",
       "<style scoped>\n",
       "    .dataframe tbody tr th:only-of-type {\n",
       "        vertical-align: middle;\n",
       "    }\n",
       "\n",
       "    .dataframe tbody tr th {\n",
       "        vertical-align: top;\n",
       "    }\n",
       "\n",
       "    .dataframe thead th {\n",
       "        text-align: right;\n",
       "    }\n",
       "</style>\n",
       "<table border=\"1\" class=\"dataframe\">\n",
       "  <thead>\n",
       "    <tr style=\"text-align: right;\">\n",
       "      <th></th>\n",
       "      <th>Max_depth</th>\n",
       "      <th>n_estimators</th>\n",
       "      <th>criterion</th>\n",
       "      <th>CV_accuracy</th>\n",
       "      <th>CV_recall</th>\n",
       "      <th>CV_precision</th>\n",
       "    </tr>\n",
       "  </thead>\n",
       "  <tbody>\n",
       "    <tr>\n",
       "      <th>9</th>\n",
       "      <td>20</td>\n",
       "      <td>100.0</td>\n",
       "      <td>gini</td>\n",
       "      <td>0.859199</td>\n",
       "      <td>0.502045</td>\n",
       "      <td>0.671162</td>\n",
       "    </tr>\n",
       "  </tbody>\n",
       "</table>\n",
       "</div>"
      ],
      "text/plain": [
       "   Max_depth  n_estimators criterion  CV_accuracy  CV_recall  CV_precision\n",
       "9         20         100.0      gini     0.859199   0.502045      0.671162"
      ]
     },
     "execution_count": 418,
     "metadata": {},
     "output_type": "execute_result"
    }
   ],
   "source": [
    "scoring = ['precision_macro','recall_macro','accuracy']\n",
    "Matrix2 = pd.DataFrame(columns = ['CV_accuracy','CV_precision_macro','CV_recall_macro','Max_depth'])\n",
    "max_depth = [10,20,30]\n",
    "n_estimators = [1,2,3]\n",
    "criterion = ['gini','entropy']\n",
    "for k in criterion:\n",
    "    for j in n_estimators:\n",
    "        for i in max_depth:\n",
    "            clf = RandomForestClassifier(max_depth = i,n_estimators=j*100,criterion=k,random_state=0)\n",
    "            scores = cross_validate(estimator = clf,X=X_train_new, y=y_train,cv=3,scoring=scoring)\n",
    "            a = pd.DataFrame(scores)\n",
    "            a = a[['test_accuracy','test_precision_macro','test_recall_macro']]\n",
    "            a = a.rename(columns = {'test_accuracy':'CV_accuracy','test_precision_macro':'CV_precision_macro','test_recall_macro':'CV_recall_macro'})\n",
    "            a['Max_depth']=i\n",
    "            a['n_estimators']=j*100\n",
    "            a['criterion']=k\n",
    "            Matrix2 = pd.concat([a,Matrix2],axis=0)\n",
    "Matrix2 = pd.DataFrame(Matrix2.groupby(['Max_depth','criterion','n_estimators'])['CV_accuracy','CV_precision_macro','CV_recall_macro'].mean())\n",
    "Matrix2 = Matrix2.reset_index()\n",
    "Matrix2 = Matrix2.rename(columns = {'CV_precision_macro':'CV_precision','CV_recall_macro':'CV_recall'})\n",
    "print('-----Best Parameters for Random Forest-----')\n",
    "Matrix2[['Max_depth','n_estimators','criterion','CV_accuracy','CV_recall','CV_precision']][Matrix2['CV_recall'] ==Matrix2['CV_recall'].max()]"
   ]
  },
  {
   "cell_type": "markdown",
   "metadata": {},
   "source": [
    "#### Gradient Boosting "
   ]
  },
  {
   "cell_type": "code",
   "execution_count": 438,
   "metadata": {},
   "outputs": [
    {
     "name": "stdout",
     "output_type": "stream",
     "text": [
      "-----Best Parameters for Gradient Boosting-----\n"
     ]
    },
    {
     "data": {
      "text/html": [
       "<div>\n",
       "<style scoped>\n",
       "    .dataframe tbody tr th:only-of-type {\n",
       "        vertical-align: middle;\n",
       "    }\n",
       "\n",
       "    .dataframe tbody tr th {\n",
       "        vertical-align: top;\n",
       "    }\n",
       "\n",
       "    .dataframe thead th {\n",
       "        text-align: right;\n",
       "    }\n",
       "</style>\n",
       "<table border=\"1\" class=\"dataframe\">\n",
       "  <thead>\n",
       "    <tr style=\"text-align: right;\">\n",
       "      <th></th>\n",
       "      <th>Max_depth</th>\n",
       "      <th>n_estimators</th>\n",
       "      <th>learning_Rate</th>\n",
       "      <th>CV_accuracy</th>\n",
       "      <th>CV_recall</th>\n",
       "      <th>CV_precision</th>\n",
       "    </tr>\n",
       "  </thead>\n",
       "  <tbody>\n",
       "    <tr>\n",
       "      <th>7</th>\n",
       "      <td>10</td>\n",
       "      <td>200.0</td>\n",
       "      <td>0.05</td>\n",
       "      <td>0.855124</td>\n",
       "      <td>0.513783</td>\n",
       "      <td>0.611895</td>\n",
       "    </tr>\n",
       "    <tr>\n",
       "      <th>9</th>\n",
       "      <td>10</td>\n",
       "      <td>200.0</td>\n",
       "      <td>0.10</td>\n",
       "      <td>0.855124</td>\n",
       "      <td>0.513783</td>\n",
       "      <td>0.611895</td>\n",
       "    </tr>\n",
       "    <tr>\n",
       "      <th>11</th>\n",
       "      <td>10</td>\n",
       "      <td>200.0</td>\n",
       "      <td>0.20</td>\n",
       "      <td>0.855124</td>\n",
       "      <td>0.513783</td>\n",
       "      <td>0.611895</td>\n",
       "    </tr>\n",
       "  </tbody>\n",
       "</table>\n",
       "</div>"
      ],
      "text/plain": [
       "    Max_depth  n_estimators  learning_Rate  CV_accuracy  CV_recall  \\\n",
       "7          10         200.0           0.05     0.855124   0.513783   \n",
       "9          10         200.0           0.10     0.855124   0.513783   \n",
       "11         10         200.0           0.20     0.855124   0.513783   \n",
       "\n",
       "    CV_precision  \n",
       "7       0.611895  \n",
       "9       0.611895  \n",
       "11      0.611895  "
      ]
     },
     "execution_count": 438,
     "metadata": {},
     "output_type": "execute_result"
    }
   ],
   "source": [
    "scoring = ['precision_macro','recall_macro','accuracy']\n",
    "Matrix3 = pd.DataFrame(columns = ['CV_accuracy','CV_precision_macro','CV_recall_macro','Max_depth'])\n",
    "max_depth = [5,10,20]\n",
    "n_estimators = [1,2]\n",
    "learning_Rate = [5,10,20]\n",
    "for k in learning_Rate:\n",
    "    for j in n_estimators:\n",
    "        for i in max_depth:\n",
    "            clf = XGBClassifier(max_depth = i,n_estimators=j*100,learning_Rate=k/100,random_state=0)\n",
    "            scores = cross_validate(estimator = clf,X=X_train_new, y=y_train,cv=3,scoring=scoring)\n",
    "            a = pd.DataFrame(scores)\n",
    "            a = a[['test_accuracy','test_precision_macro','test_recall_macro']]\n",
    "            a = a.rename(columns = {'test_accuracy':'CV_accuracy','test_precision_macro':'CV_precision_macro','test_recall_macro':'CV_recall_macro'})\n",
    "            a['Max_depth']=i\n",
    "            a['n_estimators']=j*100\n",
    "            a['learning_Rate']=k/10\n",
    "            Matrix3 = pd.concat([a,Matrix3],axis=0)\n",
    "Matrix3 = pd.DataFrame(Matrix3.groupby(['Max_depth','learning_Rate','n_estimators'])['CV_accuracy','CV_precision_macro','CV_recall_macro'].mean())\n",
    "Matrix3 = Matrix3.reset_index()\n",
    "Matrix3 = Matrix3.rename(columns = {'CV_precision_macro':'CV_precision','CV_recall_macro':'CV_recall'})\n",
    "print('-----Best Parameters for Gradient Boosting-----')\n",
    "Matrix3[['Max_depth','n_estimators','learning_Rate','CV_accuracy','CV_recall','CV_precision']][Matrix3['CV_recall'] ==Matrix3['CV_recall'].max()] \n"
   ]
  },
  {
   "cell_type": "markdown",
   "metadata": {},
   "source": [
    "## Validation of model on test data (validation data) along with performance summary"
   ]
  },
  {
   "cell_type": "code",
   "execution_count": 420,
   "metadata": {},
   "outputs": [],
   "source": [
    "def AUCCurve(OriginalValues, predictedvalues, modelname):\n",
    "    fpr, tpr, _ = metrics.roc_curve(OriginalValues,predictedvalues)\n",
    "    roc_auc = metrics.auc(fpr, tpr)\n",
    "    lw = 2\n",
    "    c = (np.random.rand(), np.random.rand(), np.random.rand())\n",
    "    plt.plot(fpr, tpr, color= c,lw=lw, label= modelname +'(AUC = %0.2f)' % roc_auc)\n",
    "    plt.plot([0, 1], [0, 1], color='navy', lw=lw, linestyle='--')\n",
    "    plt.xlim([0.0, 1.0])\n",
    "    plt.ylim([0.0, 1.0])\n",
    "    plt.xlabel('False Positive Rate')\n",
    "    plt.ylabel('True Positive Rate')\n",
    "    plt.title('ROC curve') #Receiver Operating Characteristic \n",
    "    plt.legend(loc=\"lower right\")\n"
   ]
  },
  {
   "cell_type": "markdown",
   "metadata": {},
   "source": [
    "#### Model 1 : Logistic Regression with Best Tuned parameter"
   ]
  },
  {
   "cell_type": "code",
   "execution_count": 421,
   "metadata": {},
   "outputs": [
    {
     "data": {
      "text/plain": [
       "LogisticRegression(C=1.0, class_weight=None, dual=False, fit_intercept=True,\n",
       "                   intercept_scaling=1, l1_ratio=None, max_iter=100,\n",
       "                   multi_class='auto', n_jobs=None, penalty='l2',\n",
       "                   random_state=None, solver='lbfgs', tol=0.0001, verbose=0,\n",
       "                   warm_start=False)"
      ]
     },
     "execution_count": 421,
     "metadata": {},
     "output_type": "execute_result"
    }
   ],
   "source": [
    "clfLG = linear_model.LogisticRegression(C = 1.0)\n",
    "clfLG.fit(X=X_train_new, y=y_train)"
   ]
  },
  {
   "cell_type": "markdown",
   "metadata": {},
   "source": [
    "#### Model 2 : Random Forest with Best Tuned parameter"
   ]
  },
  {
   "cell_type": "code",
   "execution_count": 422,
   "metadata": {},
   "outputs": [
    {
     "data": {
      "text/plain": [
       "RandomForestClassifier(bootstrap=True, ccp_alpha=0.0, class_weight=None,\n",
       "                       criterion='gini', max_depth=20, max_features='auto',\n",
       "                       max_leaf_nodes=None, max_samples=None,\n",
       "                       min_impurity_decrease=0.0, min_impurity_split=None,\n",
       "                       min_samples_leaf=1, min_samples_split=2,\n",
       "                       min_weight_fraction_leaf=0.0, n_estimators=100,\n",
       "                       n_jobs=None, oob_score=False, random_state=0, verbose=0,\n",
       "                       warm_start=False)"
      ]
     },
     "execution_count": 422,
     "metadata": {},
     "output_type": "execute_result"
    }
   ],
   "source": [
    "clfrf = RandomForestClassifier(max_depth = 20,n_estimators=100,criterion='gini',random_state=0)\n",
    "clfrf.fit(X_train_new,y_train)"
   ]
  },
  {
   "cell_type": "markdown",
   "metadata": {},
   "source": [
    "#### Model 3 : Gradient Boosting with Best Tuned parameter"
   ]
  },
  {
   "cell_type": "code",
   "execution_count": 439,
   "metadata": {},
   "outputs": [
    {
     "data": {
      "text/plain": [
       "XGBClassifier(base_score=0.5, booster='gbtree', colsample_bylevel=1,\n",
       "              colsample_bynode=1, colsample_bytree=1, gamma=0,\n",
       "              learning_Rate=0.2, learning_rate=0.1, max_delta_step=0,\n",
       "              max_depth=10, min_child_weight=1, missing=None, n_estimators=200,\n",
       "              n_jobs=1, nthread=None, objective='binary:logistic',\n",
       "              random_state=0, reg_alpha=0, reg_lambda=1, scale_pos_weight=1,\n",
       "              seed=None, silent=None, subsample=1, verbosity=1)"
      ]
     },
     "execution_count": 439,
     "metadata": {},
     "output_type": "execute_result"
    }
   ],
   "source": [
    "clfxgb = XGBClassifier(max_depth = 10,n_estimators=200,learning_Rate=0.2,random_state=0)\n",
    "clfxgb.fit(X_train_new,y_train)"
   ]
  },
  {
   "cell_type": "code",
   "execution_count": 440,
   "metadata": {},
   "outputs": [],
   "source": [
    "y_pred_lg = clfLG.predict(X_test_new)\n",
    "y_pred_test_prob_lg = clfLG.predict_proba(X_test_new)\n",
    "y_pred_test_prob_lg = pd.DataFrame(y_pred_test_prob_lg)\n",
    "y_pred_test_prob_lg = y_pred_test_prob_lg.iloc[:,1]\n",
    "y_pred_rf = clfrf.predict(X_test_new)\n",
    "y_pred_test_prob_rf = clfrf.predict_proba(X_test_new)\n",
    "y_pred_test_prob_rf = pd.DataFrame(y_pred_test_prob_rf)\n",
    "y_pred_test_prob_rf = y_pred_test_prob_rf.iloc[:,1]\n",
    "y_pred_xgb = clfxgb.predict(X_test_new)\n",
    "y_pred_test_prob_xgb = clfxgb.predict_proba(X_test_new)\n",
    "y_pred_test_prob_xgb = pd.DataFrame(y_pred_test_prob_xgb)\n",
    "y_pred_test_prob_xgb = y_pred_test_prob_xgb.iloc[:,1]\n"
   ]
  },
  {
   "cell_type": "code",
   "execution_count": 441,
   "metadata": {},
   "outputs": [
    {
     "name": "stdout",
     "output_type": "stream",
     "text": [
      "0.8543646987006192 accuracy score for logistic regression\n",
      "              precision    recall  f1-score   support\n",
      "\n",
      "           0       0.86      1.00      0.92      9808\n",
      "           1       0.39      0.01      0.02      1659\n",
      "\n",
      "    accuracy                           0.85     11467\n",
      "   macro avg       0.62      0.50      0.47     11467\n",
      "weighted avg       0.79      0.85      0.79     11467\n",
      "\n",
      "--------------------------------------------------\n",
      "0.8546263190023545 accuracy score for random forest\n",
      "              precision    recall  f1-score   support\n",
      "\n",
      "           0       0.86      1.00      0.92      9808\n",
      "           1       0.36      0.01      0.01      1659\n",
      "\n",
      "    accuracy                           0.85     11467\n",
      "   macro avg       0.61      0.50      0.47     11467\n",
      "weighted avg       0.78      0.85      0.79     11467\n",
      "\n",
      "--------------------------------------------------\n",
      "0.8494811197348914 accuracy score for gradient boosting\n",
      "              precision    recall  f1-score   support\n",
      "\n",
      "           0       0.86      0.99      0.92      9808\n",
      "           1       0.31      0.03      0.06      1659\n",
      "\n",
      "    accuracy                           0.85     11467\n",
      "   macro avg       0.58      0.51      0.49     11467\n",
      "weighted avg       0.78      0.85      0.79     11467\n",
      "\n"
     ]
    }
   ],
   "source": [
    "print(accuracy_score(y_test,y_pred_lg),'accuracy score for logistic regression')\n",
    "print(classification_report(y_test,y_pred_lg))\n",
    "print('--------------------------------------------------')\n",
    "print(accuracy_score(y_test,y_pred_rf),'accuracy score for random forest')\n",
    "print(classification_report(y_test,y_pred_rf))\n",
    "print('--------------------------------------------------')\n",
    "print(accuracy_score(y_test,y_pred_xgb),'accuracy score for gradient boosting')\n",
    "print(classification_report(y_test,y_pred_xgb))\n"
   ]
  },
  {
   "cell_type": "code",
   "execution_count": 442,
   "metadata": {},
   "outputs": [
    {
     "data": {
      "image/png": "[encoded data removed]",
      "text/plain": [
       "<Figure size 432x288 with 1 Axes>"
      ]
     },
     "metadata": {
      "needs_background": "light"
     },
     "output_type": "display_data"
    },
    {
     "data": {
      "text/plain": [
       "<Figure size 432x432 with 0 Axes>"
      ]
     },
     "metadata": {},
     "output_type": "display_data"
    }
   ],
   "source": [
    "AUCCurve(y_test,y_pred_test_prob_rf, 'Random Forest')\n",
    "AUCCurve(y_test,y_pred_test_prob_lg,'Logistic Regression')\n",
    "AUCCurve(y_test,y_pred_test_prob_xgb,'Gradient Boosting')\n",
    "plt.show()\n",
    "plt.figure(figsize=(6,6))\n",
    "plt.show()"
   ]
  },
  {
   "cell_type": "markdown",
   "metadata": {},
   "source": [
    "#### Best Model based on 2 Level Validation : XGBoost\n",
    "It has highest recall on validation data"
   ]
  },
  {
   "cell_type": "markdown",
   "metadata": {},
   "source": [
    "## Final Test on Loan Application Data (Year 2008) "
   ]
  },
  {
   "cell_type": "code",
   "execution_count": 443,
   "metadata": {},
   "outputs": [],
   "source": [
    "X_holdout = holdoutdata.drop('Loan_Default',axis=1)\n",
    "y_holdout  = pd.DataFrame(holdoutdata['Loan_Default'])\n"
   ]
  },
  {
   "cell_type": "markdown",
   "metadata": {},
   "source": [
    "Scaling "
   ]
  },
  {
   "cell_type": "code",
   "execution_count": 444,
   "metadata": {},
   "outputs": [],
   "source": [
    "columns = X_holdout.columns\n",
    "X_holdout_new = Scale.transform(X_holdout)\n"
   ]
  },
  {
   "cell_type": "markdown",
   "metadata": {},
   "source": [
    "Feature Selection"
   ]
  },
  {
   "cell_type": "code",
   "execution_count": 445,
   "metadata": {},
   "outputs": [],
   "source": [
    "X_holdout_new= pd.DataFrame(X_holdout_new,columns = columns)\n",
    "X_holdout_new = X_holdout_new[X_train_new.columns]\n"
   ]
  },
  {
   "cell_type": "markdown",
   "metadata": {},
   "source": [
    "Prediction"
   ]
  },
  {
   "cell_type": "code",
   "execution_count": 446,
   "metadata": {},
   "outputs": [],
   "source": [
    "y_pred_holdout = clfxgb.predict(X_holdout_new)\n",
    "y_pred_prob_holdout = clfxgb.predict_proba(X_holdout_new)"
   ]
  },
  {
   "cell_type": "code",
   "execution_count": 447,
   "metadata": {},
   "outputs": [
    {
     "name": "stdout",
     "output_type": "stream",
     "text": [
      "0.8405889884763125 Accuracy score on 2008 Loan Application Data\n",
      "              precision    recall  f1-score   support\n",
      "\n",
      "           0       0.84      1.00      0.91      1315\n",
      "           1       0.33      0.01      0.02       247\n",
      "\n",
      "    accuracy                           0.84      1562\n",
      "   macro avg       0.59      0.50      0.46      1562\n",
      "weighted avg       0.76      0.84      0.77      1562\n",
      "\n"
     ]
    }
   ],
   "source": [
    "print(accuracy_score(y_holdout,y_pred_holdout) , 'Accuracy score on 2008 Loan Application Data')\n",
    "print(classification_report(y_holdout,y_pred_holdout))"
   ]
  },
  {
   "cell_type": "code",
   "execution_count": 448,
   "metadata": {},
   "outputs": [
    {
     "data": {
      "image/png": "[encoded data removed]",
      "text/plain": [
       "<Figure size 432x288 with 1 Axes>"
      ]
     },
     "metadata": {
      "needs_background": "light"
     },
     "output_type": "display_data"
    }
   ],
   "source": [
    "fpr, tpr, threshold = metrics.roc_curve(y_holdout.Loan_Default.ravel(), np.array(pd.DataFrame(y_pred_prob_holdout).iloc[:,1]),pos_label = 1)\n",
    "roc_auc = metrics.auc(fpr, tpr)\n",
    "plt.title('Receiver Operating Characteristic')\n",
    "plt.plot(fpr, tpr, 'b', label = 'AUC = %0.2f' % roc_auc)\n",
    "plt.legend(loc = 'lower right')\n",
    "plt.plot([0, 1], [0, 1],'r--')\n",
    "plt.xlim([0, 1])\n",
    "plt.ylim([0, 1])\n",
    "plt.ylabel('True Positive Rate')\n",
    "plt.xlabel('False Positive Rate')\n",
    "plt.show()\n"
   ]
  },
  {
   "cell_type": "markdown",
   "metadata": {},
   "source": [
    "## FINAL MODEL SAVE"
   ]
  },
  {
   "cell_type": "code",
   "execution_count": 449,
   "metadata": {},
   "outputs": [],
   "source": [
    "with open('MLModel','wb') as f:\n",
    "    pickle.dump(clfxgb,f)"
   ]
  },
  {
   "cell_type": "code",
   "execution_count": 450,
   "metadata": {},
   "outputs": [],
   "source": [
    "with open('MLModel','rb') as f:\n",
    "    clfxgb2 = pickle.load(f)"
   ]
  }
 ],
 "metadata": {
  "kernelspec": {
   "display_name": "Python 3",
   "language": "python",
   "name": "python3"
  },
  "language_info": {
   "codemirror_mode": {
    "name": "ipython",
    "version": 3
   },
   "file_extension": ".py",
   "mimetype": "text/x-python",
   "name": "python",
   "nbconvert_exporter": "python",
   "pygments_lexer": "ipython3",
   "version": "3.7.3"
  }
 },
 "nbformat": 4,
 "nbformat_minor": 2
}
